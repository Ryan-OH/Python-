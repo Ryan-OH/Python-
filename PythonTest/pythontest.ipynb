{
 "cells": [
  {
   "cell_type": "markdown",
   "metadata": {},
   "source": [
    "### 2024-12-19"
   ]
  },
  {
   "cell_type": "markdown",
   "metadata": {},
   "source": [
    "#### 파이썬 기본 문법"
   ]
  },
  {
   "cell_type": "code",
   "execution_count": 67,
   "metadata": {},
   "outputs": [
    {
     "name": "stdout",
     "output_type": "stream",
     "text": [
      "Hello Python\n"
     ]
    }
   ],
   "source": [
    "print('Hello Python')"
   ]
  },
  {
   "cell_type": "code",
   "execution_count": 68,
   "metadata": {},
   "outputs": [
    {
     "ename": "SyntaxError",
     "evalue": "unterminated string literal (detected at line 1) (172053.py, line 1)",
     "output_type": "error",
     "traceback": [
      "\u001b[1;36m  Cell \u001b[1;32mIn[68], line 1\u001b[1;36m\u001b[0m\n\u001b[1;33m    print('Hello Python)\u001b[0m\n\u001b[1;37m          ^\u001b[0m\n\u001b[1;31mSyntaxError\u001b[0m\u001b[1;31m:\u001b[0m unterminated string literal (detected at line 1)\n"
     ]
    }
   ],
   "source": [
    "print('Hello Python)"
   ]
  },
  {
   "cell_type": "code",
   "execution_count": 5,
   "metadata": {},
   "outputs": [
    {
     "name": "stdout",
     "output_type": "stream",
     "text": [
      "Hello Python\n"
     ]
    }
   ],
   "source": [
    "print(\"Hello Python\")"
   ]
  },
  {
   "cell_type": "code",
   "execution_count": 6,
   "metadata": {},
   "outputs": [
    {
     "name": "stdout",
     "output_type": "stream",
     "text": [
      "Hello Python\n",
      "Hello Python\n",
      "Hello Python\n"
     ]
    }
   ],
   "source": [
    "print('Hello Python')\n",
    "print('Hello Python')\n",
    "print('Hello Python')"
   ]
  },
  {
   "cell_type": "code",
   "execution_count": 19,
   "metadata": {},
   "outputs": [
    {
     "ename": "SyntaxError",
     "evalue": "invalid syntax. Perhaps you forgot a comma? (1682135643.py, line 1)",
     "output_type": "error",
     "traceback": [
      "\u001b[1;36m  Cell \u001b[1;32mIn[19], line 1\u001b[1;36m\u001b[0m\n\u001b[1;33m    print(Hello Python)\u001b[0m\n\u001b[1;37m          ^\u001b[0m\n\u001b[1;31mSyntaxError\u001b[0m\u001b[1;31m:\u001b[0m invalid syntax. Perhaps you forgot a comma?\n"
     ]
    }
   ],
   "source": [
    "print(Hello Python)\n",
    "print(Hello Python)\n",
    "print(Hello Python)"
   ]
  },
  {
   "cell_type": "code",
   "execution_count": null,
   "metadata": {},
   "outputs": [
    {
     "ename": "NameError",
     "evalue": "name 'Hello' is not defined",
     "output_type": "error",
     "traceback": [
      "\u001b[1;31m---------------------------------------------------------------------------\u001b[0m",
      "\u001b[1;31mNameError\u001b[0m                                 Traceback (most recent call last)",
      "Cell \u001b[1;32mIn[28], line 1\u001b[0m\n\u001b[1;32m----> 1\u001b[0m \u001b[38;5;28mprint\u001b[39m(\u001b[43mHello\u001b[49m, Python)\n\u001b[0;32m      2\u001b[0m \u001b[38;5;28mprint\u001b[39m(Hello, Python)\n\u001b[0;32m      3\u001b[0m \u001b[38;5;28mprint\u001b[39m(Hello, Python)\n",
      "\u001b[1;31mNameError\u001b[0m: name 'Hello' is not defined"
     ]
    }
   ],
   "source": [
    "print(Hello, Python)\n",
    "print(Hello, Python)\n",
    "print(Hello, Python)"
   ]
  },
  {
   "cell_type": "code",
   "execution_count": null,
   "metadata": {},
   "outputs": [
    {
     "name": "stdout",
     "output_type": "stream",
     "text": [
      "1\n",
      "2\n",
      "3\n"
     ]
    }
   ],
   "source": [
    "print(1)\n",
    "print(2)\n",
    "print(3)"
   ]
  },
  {
   "cell_type": "code",
   "execution_count": 22,
   "metadata": {},
   "outputs": [
    {
     "name": "stdout",
     "output_type": "stream",
     "text": [
      "1\n",
      "2\n",
      "3\n"
     ]
    }
   ],
   "source": [
    "print('1')\n",
    "print('2')\n",
    "print('3')"
   ]
  },
  {
   "cell_type": "code",
   "execution_count": 23,
   "metadata": {},
   "outputs": [
    {
     "name": "stdout",
     "output_type": "stream",
     "text": [
      "3\n",
      "5\n",
      "7\n"
     ]
    }
   ],
   "source": [
    "print(1+2)\n",
    "print(2+3)\n",
    "print(3+4)"
   ]
  },
  {
   "cell_type": "code",
   "execution_count": 24,
   "metadata": {},
   "outputs": [
    {
     "name": "stdout",
     "output_type": "stream",
     "text": [
      "1+2\n",
      "2+3\n",
      "3+4\n"
     ]
    }
   ],
   "source": [
    "print('1+2')\n",
    "print('2+3')\n",
    "print('3+4')"
   ]
  },
  {
   "cell_type": "code",
   "execution_count": 25,
   "metadata": {},
   "outputs": [
    {
     "data": {
      "text/plain": [
       "7"
      ]
     },
     "execution_count": 25,
     "metadata": {},
     "output_type": "execute_result"
    }
   ],
   "source": [
    "1+2\n",
    "2+3\n",
    "3+4"
   ]
  },
  {
   "cell_type": "markdown",
   "metadata": {},
   "source": [
    "Hello\n",
    "Python\n",
    "홍길동 나이 = 20 세"
   ]
  },
  {
   "cell_type": "code",
   "execution_count": 26,
   "metadata": {},
   "outputs": [
    {
     "name": "stdout",
     "output_type": "stream",
     "text": [
      "Hello\n",
      "Python\n",
      "홍길동 나이 = 20 세\n"
     ]
    }
   ],
   "source": [
    "# 프린트문 연습중입니다\n",
    "print('Hello')\n",
    "print('Python')\n",
    "print('홍길동', '나이 =', 20, '세')"
   ]
  },
  {
   "cell_type": "code",
   "execution_count": 27,
   "metadata": {},
   "outputs": [
    {
     "ename": "IndentationError",
     "evalue": "unexpected indent (3940343424.py, line 2)",
     "output_type": "error",
     "traceback": [
      "\u001b[1;36m  Cell \u001b[1;32mIn[27], line 2\u001b[1;36m\u001b[0m\n\u001b[1;33m    print('Python')\u001b[0m\n\u001b[1;37m    ^\u001b[0m\n\u001b[1;31mIndentationError\u001b[0m\u001b[1;31m:\u001b[0m unexpected indent\n"
     ]
    }
   ],
   "source": [
    "print('Hello')\n",
    " print('Python')"
   ]
  },
  {
   "cell_type": "code",
   "execution_count": 29,
   "metadata": {},
   "outputs": [
    {
     "name": "stdout",
     "output_type": "stream",
     "text": [
      "Hello\n",
      "Python\n",
      "Nice       to meet you\n"
     ]
    }
   ],
   "source": [
    "print('Hello'); print('Python')\n",
    "\n",
    "print('Nice \\\n",
    "      to meet you')"
   ]
  },
  {
   "cell_type": "code",
   "execution_count": 30,
   "metadata": {},
   "outputs": [
    {
     "ename": "SyntaxError",
     "evalue": "unterminated string literal (detected at line 3) (1831640207.py, line 3)",
     "output_type": "error",
     "traceback": [
      "\u001b[1;36m  Cell \u001b[1;32mIn[30], line 3\u001b[1;36m\u001b[0m\n\u001b[1;33m    print('Nice\u001b[0m\n\u001b[1;37m          ^\u001b[0m\n\u001b[1;31mSyntaxError\u001b[0m\u001b[1;31m:\u001b[0m unterminated string literal (detected at line 3)\n"
     ]
    }
   ],
   "source": [
    "print('Hello'); print('Python')\n",
    "\n",
    "print('Nice \n",
    "      to meet you')"
   ]
  },
  {
   "cell_type": "code",
   "execution_count": 31,
   "metadata": {},
   "outputs": [
    {
     "ename": "SyntaxError",
     "evalue": "invalid syntax (2730058062.py, line 1)",
     "output_type": "error",
     "traceback": [
      "\u001b[1;36m  Cell \u001b[1;32mIn[31], line 1\u001b[1;36m\u001b[0m\n\u001b[1;33m    print('Hello') print('Python')\u001b[0m\n\u001b[1;37m                   ^\u001b[0m\n\u001b[1;31mSyntaxError\u001b[0m\u001b[1;31m:\u001b[0m invalid syntax\n"
     ]
    }
   ],
   "source": [
    "print('Hello') print('Python')"
   ]
  },
  {
   "cell_type": "code",
   "execution_count": 32,
   "metadata": {},
   "outputs": [
    {
     "name": "stdout",
     "output_type": "stream",
     "text": [
      "Hello\n",
      "Python\n"
     ]
    },
    {
     "data": {
      "text/plain": [
       "(None, None)"
      ]
     },
     "execution_count": 32,
     "metadata": {},
     "output_type": "execute_result"
    }
   ],
   "source": [
    "print('Hello'), print('Python')"
   ]
  },
  {
   "cell_type": "code",
   "execution_count": 38,
   "metadata": {},
   "outputs": [
    {
     "name": "stdout",
     "output_type": "stream",
     "text": [
      "Hi Python\n"
     ]
    }
   ],
   "source": [
    "print('Hi', 'Python')"
   ]
  },
  {
   "cell_type": "code",
   "execution_count": 39,
   "metadata": {},
   "outputs": [
    {
     "name": "stdout",
     "output_type": "stream",
     "text": [
      "Hi*Python\n"
     ]
    }
   ],
   "source": [
    "# sep는 두개의 변수 사이에 뭘 넣을지 정한것\n",
    "print('Hi', 'Python', sep='*')"
   ]
  },
  {
   "cell_type": "code",
   "execution_count": 40,
   "metadata": {},
   "outputs": [
    {
     "name": "stdout",
     "output_type": "stream",
     "text": [
      "HiPython\n"
     ]
    }
   ],
   "source": [
    "print('Hi', 'Python', sep='')"
   ]
  },
  {
   "cell_type": "code",
   "execution_count": 41,
   "metadata": {},
   "outputs": [
    {
     "name": "stdout",
     "output_type": "stream",
     "text": [
      "Hi Python\n"
     ]
    }
   ],
   "source": [
    "# end는 줄바꿈이지만 ' '공백 넣으면 띄어쓰기함함\n",
    "print('Hi', end=' ') \n",
    "print('Python')"
   ]
  },
  {
   "cell_type": "markdown",
   "metadata": {},
   "source": [
    "#### 변수"
   ]
  },
  {
   "cell_type": "code",
   "execution_count": 42,
   "metadata": {},
   "outputs": [
    {
     "name": "stdout",
     "output_type": "stream",
     "text": [
      "홍길동 나이 = 30 세\n"
     ]
    }
   ],
   "source": [
    "name = '홍길동'\n",
    "age = 30\n",
    "\n",
    "print(name, '나이 =', age, '세')"
   ]
  },
  {
   "cell_type": "code",
   "execution_count": 43,
   "metadata": {},
   "outputs": [
    {
     "data": {
      "text/plain": [
       "['False',\n",
       " 'None',\n",
       " 'True',\n",
       " 'and',\n",
       " 'as',\n",
       " 'assert',\n",
       " 'async',\n",
       " 'await',\n",
       " 'break',\n",
       " 'class',\n",
       " 'continue',\n",
       " 'def',\n",
       " 'del',\n",
       " 'elif',\n",
       " 'else',\n",
       " 'except',\n",
       " 'finally',\n",
       " 'for',\n",
       " 'from',\n",
       " 'global',\n",
       " 'if',\n",
       " 'import',\n",
       " 'in',\n",
       " 'is',\n",
       " 'lambda',\n",
       " 'nonlocal',\n",
       " 'not',\n",
       " 'or',\n",
       " 'pass',\n",
       " 'raise',\n",
       " 'return',\n",
       " 'try',\n",
       " 'while',\n",
       " 'with',\n",
       " 'yield']"
      ]
     },
     "execution_count": 43,
     "metadata": {},
     "output_type": "execute_result"
    }
   ],
   "source": [
    "import keyword\n",
    "keyword.kwlist"
   ]
  },
  {
   "cell_type": "code",
   "execution_count": 44,
   "metadata": {},
   "outputs": [
    {
     "data": {
      "text/plain": [
       "str"
      ]
     },
     "execution_count": 44,
     "metadata": {},
     "output_type": "execute_result"
    }
   ],
   "source": [
    "type(name)"
   ]
  },
  {
   "cell_type": "code",
   "execution_count": 45,
   "metadata": {},
   "outputs": [
    {
     "data": {
      "text/plain": [
       "int"
      ]
     },
     "execution_count": 45,
     "metadata": {},
     "output_type": "execute_result"
    }
   ],
   "source": [
    "type(age)"
   ]
  },
  {
   "cell_type": "code",
   "execution_count": null,
   "metadata": {},
   "outputs": [],
   "source": [
    "str()\n",
    "int()\n",
    "float()\n",
    "bool()"
   ]
  },
  {
   "cell_type": "code",
   "execution_count": 46,
   "metadata": {},
   "outputs": [
    {
     "data": {
      "text/plain": [
       "True"
      ]
     },
     "execution_count": 46,
     "metadata": {},
     "output_type": "execute_result"
    }
   ],
   "source": [
    "bool('True')"
   ]
  },
  {
   "cell_type": "code",
   "execution_count": 48,
   "metadata": {},
   "outputs": [
    {
     "data": {
      "text/plain": [
       "str"
      ]
     },
     "execution_count": 48,
     "metadata": {},
     "output_type": "execute_result"
    }
   ],
   "source": [
    "type('True')"
   ]
  },
  {
   "cell_type": "code",
   "execution_count": 49,
   "metadata": {},
   "outputs": [
    {
     "data": {
      "text/plain": [
       "bool"
      ]
     },
     "execution_count": 49,
     "metadata": {},
     "output_type": "execute_result"
    }
   ],
   "source": [
    "type(True)"
   ]
  },
  {
   "cell_type": "code",
   "execution_count": 54,
   "metadata": {},
   "outputs": [
    {
     "data": {
      "text/plain": [
       "False"
      ]
     },
     "execution_count": 54,
     "metadata": {},
     "output_type": "execute_result"
    }
   ],
   "source": [
    "bool(0)"
   ]
  },
  {
   "cell_type": "code",
   "execution_count": 57,
   "metadata": {},
   "outputs": [
    {
     "data": {
      "text/plain": [
       "True"
      ]
     },
     "execution_count": 57,
     "metadata": {},
     "output_type": "execute_result"
    }
   ],
   "source": [
    "bool(2)"
   ]
  },
  {
   "cell_type": "code",
   "execution_count": 58,
   "metadata": {},
   "outputs": [
    {
     "data": {
      "text/plain": [
       "True"
      ]
     },
     "execution_count": 58,
     "metadata": {},
     "output_type": "execute_result"
    }
   ],
   "source": [
    "bool(' ')"
   ]
  },
  {
   "cell_type": "code",
   "execution_count": 59,
   "metadata": {},
   "outputs": [
    {
     "data": {
      "text/plain": [
       "False"
      ]
     },
     "execution_count": 59,
     "metadata": {},
     "output_type": "execute_result"
    }
   ],
   "source": [
    "bool('')"
   ]
  },
  {
   "cell_type": "code",
   "execution_count": 60,
   "metadata": {},
   "outputs": [
    {
     "data": {
      "text/plain": [
       "True"
      ]
     },
     "execution_count": 60,
     "metadata": {},
     "output_type": "execute_result"
    }
   ],
   "source": [
    "bool('hello')"
   ]
  },
  {
   "cell_type": "code",
   "execution_count": 62,
   "metadata": {},
   "outputs": [],
   "source": [
    "## 미션\n",
    "\n",
    "a = 3\n",
    "b = 4\n",
    "\n",
    "# ToDo: 합, 차, 곱, 나눗셈, 몫, 나머지를 출력"
   ]
  },
  {
   "cell_type": "code",
   "execution_count": 65,
   "metadata": {},
   "outputs": [
    {
     "name": "stdout",
     "output_type": "stream",
     "text": [
      "합 = 7\n",
      "차 = -1\n",
      "곱 = 12\n",
      "나눗셈 = 0.75\n",
      "나머지 = 3\n",
      "몫 = 0\n",
      "제곱 = 81\n"
     ]
    }
   ],
   "source": [
    "print('합 =', a + b)\n",
    "print('차 =', a - b)\n",
    "print('곱 =', a * b)\n",
    "print('나눗셈 =', a / b)\n",
    "print('나머지 =', a % b)\n",
    "print('몫 =', a // b)\n",
    "print('제곱 =', a ** b)"
   ]
  },
  {
   "cell_type": "code",
   "execution_count": 124,
   "metadata": {},
   "outputs": [],
   "source": [
    "n = 3456\n",
    "\n",
    "# ToDo: 각 자리의 숫자를 출력"
   ]
  },
  {
   "cell_type": "code",
   "execution_count": 125,
   "metadata": {},
   "outputs": [
    {
     "name": "stdout",
     "output_type": "stream",
     "text": [
      "3\n",
      "4\n",
      "5\n",
      "6\n"
     ]
    }
   ],
   "source": [
    "print(n//1000%10)\n",
    "print(n//100%10)\n",
    "print(n//10%10)\n",
    "print(n//1%10)"
   ]
  },
  {
   "cell_type": "code",
   "execution_count": 126,
   "metadata": {},
   "outputs": [
    {
     "name": "stdout",
     "output_type": "stream",
     "text": [
      "12345600\n"
     ]
    }
   ],
   "source": [
    "pay = 12345678 \n",
    "\n",
    "# ToDo= 100미만 절사 처리!\n",
    "\n",
    "print(pay//100*100)"
   ]
  },
  {
   "cell_type": "code",
   "execution_count": 39,
   "metadata": {},
   "outputs": [
    {
     "name": "stdout",
     "output_type": "stream",
     "text": [
      "4\n"
     ]
    }
   ],
   "source": [
    "# 변수 a에 저장된 값의 b자리 값을 계산하여 변수 c에 저장하는 코드를 설계\n",
    "# ex) b가 1일경우 첫번째 자리수은 1, b가 3일경우 셋째 자리수인 3으로 출력\n",
    "\n",
    "a = 1234\n",
    "b = 1\n",
    "#출력예시: b가 1이면 4, b가 3이면 2\n",
    "c = a//10**(b-1)%10\n",
    "print(c)"
   ]
  },
  {
   "cell_type": "code",
   "execution_count": 40,
   "metadata": {},
   "outputs": [
    {
     "name": "stdout",
     "output_type": "stream",
     "text": [
      "True\n",
      "True\n",
      "False\n"
     ]
    }
   ],
   "source": [
    "print( (3 < 5) and (3 > 0))\n",
    "print( (4 < 7) or (5 > 8))\n",
    "print( not(5 < 9))"
   ]
  },
  {
   "cell_type": "code",
   "execution_count": 41,
   "metadata": {},
   "outputs": [
    {
     "data": {
      "text/plain": [
       "\"어머님은 '자장면'이 싫다고 하셨어\""
      ]
     },
     "execution_count": 41,
     "metadata": {},
     "output_type": "execute_result"
    }
   ],
   "source": [
    "# \\'  \\'는 문장 속에 ''표시를 따로 넣을 때 사용\n",
    "# or \\n 사용해도 가능\n",
    "'어머님은 \\'자장면\\'이 싫다고 하셨어'"
   ]
  },
  {
   "cell_type": "code",
   "execution_count": 42,
   "metadata": {},
   "outputs": [
    {
     "name": "stdout",
     "output_type": "stream",
     "text": [
      "\n",
      "Hellow\n",
      "    Hellow\n",
      "Hellow\n",
      "Hellow\n",
      "        Hellow Hellow\n",
      "Hellow Hellow\n",
      "Hellow Hellow \n"
     ]
    }
   ],
   "source": [
    "# ''' ''' or \"\"\"\"\"\" 는 여러줄의 문자열을 표현할때 사용 ex) 기사\n",
    "multiline =\"\"\"\n",
    "Hellow\n",
    "    Hellow\n",
    "Hellow\n",
    "Hellow\n",
    "        Hellow Hellow\n",
    "Hellow Hellow\n",
    "Hellow Hellow \"\"\"\n",
    "\n",
    "print(multiline)"
   ]
  },
  {
   "cell_type": "code",
   "execution_count": 43,
   "metadata": {},
   "outputs": [
    {
     "data": {
      "text/plain": [
       "'PythonHello'"
      ]
     },
     "execution_count": 43,
     "metadata": {},
     "output_type": "execute_result"
    }
   ],
   "source": [
    "head = 'Python'\n",
    "tail = 'Hello'\n",
    "\n",
    "head + tail"
   ]
  },
  {
   "cell_type": "code",
   "execution_count": 44,
   "metadata": {},
   "outputs": [
    {
     "ename": "TypeError",
     "evalue": "unsupported operand type(s) for -: 'str' and 'str'",
     "output_type": "error",
     "traceback": [
      "\u001b[1;31m---------------------------------------------------------------------------\u001b[0m",
      "\u001b[1;31mTypeError\u001b[0m                                 Traceback (most recent call last)",
      "Cell \u001b[1;32mIn[44], line 1\u001b[0m\n\u001b[1;32m----> 1\u001b[0m \u001b[43mhead\u001b[49m\u001b[43m \u001b[49m\u001b[38;5;241;43m-\u001b[39;49m\u001b[43m \u001b[49m\u001b[43mtail\u001b[49m\n",
      "\u001b[1;31mTypeError\u001b[0m: unsupported operand type(s) for -: 'str' and 'str'"
     ]
    }
   ],
   "source": [
    "head - tail"
   ]
  },
  {
   "cell_type": "code",
   "execution_count": 190,
   "metadata": {},
   "outputs": [
    {
     "data": {
      "text/plain": [
       "'PythonPythonPython'"
      ]
     },
     "execution_count": 190,
     "metadata": {},
     "output_type": "execute_result"
    }
   ],
   "source": [
    "head * 3"
   ]
  },
  {
   "cell_type": "code",
   "execution_count": 192,
   "metadata": {},
   "outputs": [
    {
     "data": {
      "text/plain": [
       "6"
      ]
     },
     "execution_count": 192,
     "metadata": {},
     "output_type": "execute_result"
    }
   ],
   "source": [
    "len(head)"
   ]
  },
  {
   "cell_type": "code",
   "execution_count": 193,
   "metadata": {},
   "outputs": [],
   "source": [
    "samplestring = 'Life is too short'"
   ]
  },
  {
   "cell_type": "code",
   "execution_count": 194,
   "metadata": {},
   "outputs": [
    {
     "data": {
      "text/plain": [
       "17"
      ]
     },
     "execution_count": 194,
     "metadata": {},
     "output_type": "execute_result"
    }
   ],
   "source": [
    "len(samplestring)"
   ]
  },
  {
   "cell_type": "code",
   "execution_count": 198,
   "metadata": {},
   "outputs": [
    {
     "name": "stdout",
     "output_type": "stream",
     "text": [
      "'낮말'은 새가 듣고 '밤말'은 쥐가 듣는다\n"
     ]
    }
   ],
   "source": [
    "print('\\'낮말\\'은 새가 듣고 \\'밤말\\'은 쥐가 듣는다')"
   ]
  },
  {
   "cell_type": "code",
   "execution_count": 199,
   "metadata": {},
   "outputs": [
    {
     "data": {
      "text/plain": [
       "'t'"
      ]
     },
     "execution_count": 199,
     "metadata": {},
     "output_type": "execute_result"
    }
   ],
   "source": [
    "samplestring[8]"
   ]
  },
  {
   "cell_type": "code",
   "execution_count": 200,
   "metadata": {},
   "outputs": [
    {
     "data": {
      "text/plain": [
       "'h'"
      ]
     },
     "execution_count": 200,
     "metadata": {},
     "output_type": "execute_result"
    }
   ],
   "source": [
    "samplestring[13]"
   ]
  },
  {
   "cell_type": "code",
   "execution_count": 202,
   "metadata": {},
   "outputs": [
    {
     "data": {
      "text/plain": [
       "'s'"
      ]
     },
     "execution_count": 202,
     "metadata": {},
     "output_type": "execute_result"
    }
   ],
   "source": [
    "samplestring[-5]"
   ]
  },
  {
   "cell_type": "code",
   "execution_count": 209,
   "metadata": {},
   "outputs": [
    {
     "name": "stdout",
     "output_type": "stream",
     "text": [
      "too\n"
     ]
    },
    {
     "data": {
      "text/plain": [
       "'too'"
      ]
     },
     "execution_count": 209,
     "metadata": {},
     "output_type": "execute_result"
    }
   ],
   "source": [
    "print(samplestring[8]+samplestring[9]+samplestring[10])\n",
    "samplestring[8:11]"
   ]
  },
  {
   "cell_type": "code",
   "execution_count": 213,
   "metadata": {},
   "outputs": [
    {
     "name": "stdout",
     "output_type": "stream",
     "text": [
      "Life is too short\n"
     ]
    },
    {
     "data": {
      "text/plain": [
       "'Lesosr'"
      ]
     },
     "execution_count": 213,
     "metadata": {},
     "output_type": "execute_result"
    }
   ],
   "source": [
    "print(samplestring[:])\n",
    "samplestring[::3]"
   ]
  },
  {
   "cell_type": "code",
   "execution_count": null,
   "metadata": {},
   "outputs": [],
   "source": [
    "smaple = 'Life is too short, You need Python'\n"
   ]
  },
  {
   "cell_type": "code",
   "execution_count": 222,
   "metadata": {},
   "outputs": [
    {
     "name": "stdout",
     "output_type": "stream",
     "text": [
      "Lie\n"
     ]
    }
   ],
   "source": [
    "print(smaple[0]+smaple[1]+smaple[3])"
   ]
  },
  {
   "cell_type": "code",
   "execution_count": 223,
   "metadata": {},
   "outputs": [
    {
     "name": "stdout",
     "output_type": "stream",
     "text": [
      "Yee\n"
     ]
    }
   ],
   "source": [
    "print(smaple[19]+smaple[24:26])"
   ]
  },
  {
   "cell_type": "markdown",
   "metadata": {},
   "source": [
    "### 사용자 입력\n"
   ]
  },
  {
   "cell_type": "code",
   "execution_count": null,
   "metadata": {},
   "outputs": [
    {
     "name": "stdout",
     "output_type": "stream",
     "text": [
      "당신의 이름은 뚱떙이입니다\n"
     ]
    }
   ],
   "source": [
    "name = input('이름을 입력하세요.')\n",
    "\n",
    "print('당신의 이름은 ' + name+ '입니다')"
   ]
  },
  {
   "cell_type": "code",
   "execution_count": null,
   "metadata": {},
   "outputs": [],
   "source": [
    "## 미션\n",
    "# 사용자로부터 두개의 정수를 입력 받아서\n",
    "# 덧셈을 출출력하는 프로그램을 만들어주세여"
   ]
  },
  {
   "cell_type": "code",
   "execution_count": null,
   "metadata": {},
   "outputs": [
    {
     "name": "stdout",
     "output_type": "stream",
     "text": [
      "7\n"
     ]
    }
   ],
   "source": [
    "num1 = int(input())\n",
    "num2 = int(input())\n",
    "\n",
    "print(num1 + num2)"
   ]
  },
  {
   "cell_type": "code",
   "execution_count": 232,
   "metadata": {},
   "outputs": [
    {
     "name": "stdout",
     "output_type": "stream",
     "text": [
      "9.0\n"
     ]
    }
   ],
   "source": [
    "side1 = int(input())\n",
    "height = int(input())\n",
    "\n",
    "print(side1 * height * 0.5)"
   ]
  },
  {
   "cell_type": "code",
   "execution_count": 233,
   "metadata": {},
   "outputs": [
    {
     "name": "stdout",
     "output_type": "stream",
     "text": [
      "32000\n"
     ]
    }
   ],
   "source": [
    "Kimbob = int(input())\n",
    "Tteok = int(input())\n",
    "Ramen = int(input())\n",
    "\n",
    "Total = Kimbob*3000 + Tteok*3500 + Ramen*2500\n",
    "\n",
    "print(Total)"
   ]
  },
  {
   "cell_type": "code",
   "execution_count": 234,
   "metadata": {},
   "outputs": [
    {
     "name": "stdout",
     "output_type": "stream",
     "text": [
      " 1000.12 *  2000.457 = 2,000,703.65\n"
     ]
    }
   ],
   "source": [
    "#f-string 이용\n",
    "\n",
    "a = float(input('첫 번째 값 입력: '))\n",
    "b = float(input('두 번째 값 입력: '))\n",
    "\n",
    "print(f'{a: .2f} * {b: .3f} = {a*b:,.2f}')"
   ]
  },
  {
   "cell_type": "code",
   "execution_count": 259,
   "metadata": {},
   "outputs": [
    {
     "name": "stdout",
     "output_type": "stream",
     "text": [
      " 3.14 *  150.7 *  150.7 =  71,309.0\n",
      " 3.14 * 2* 150.7 =  946.4\n"
     ]
    }
   ],
   "source": [
    "# 반지름 실수값을 입력 받아, 원의 둘레와 넓이 계산\n",
    "# 소숫점 이하 1자리로 표시, 원의 넓이는 천단위 쉼표(,) 표시\n",
    "# f-string 이용\n",
    "\n",
    "r = float(input('반지름 입력(cm): '))\n",
    "p = float(input('3.14 입력: '))\n",
    "\n",
    "\n",
    "print(f'{p: .2f} * {r: .1f} * {r: .1f} = {p*r*r: ,.1f}')\n",
    "\n",
    "print(f'{p: .2f} * 2*{r: .1f} = {2*p*r: ,.1f}')"
   ]
  },
  {
   "cell_type": "markdown",
   "metadata": {},
   "source": [
    "### 조건문"
   ]
  },
  {
   "cell_type": "code",
   "execution_count": null,
   "metadata": {},
   "outputs": [],
   "source": [
    "money = False\n",
    "\n",
    "if money:\n",
    "    print('맛난거 먹기')\n",
    "    print('노래방도 가고')\n",
    "    print('영화도 보고')"
   ]
  },
  {
   "cell_type": "code",
   "execution_count": 271,
   "metadata": {},
   "outputs": [
    {
     "name": "stdout",
     "output_type": "stream",
     "text": [
      "this is test\n",
      "Hello Python\n"
     ]
    }
   ],
   "source": [
    "result = 10 > 4\n",
    "if result:\n",
    "    print('this is test')\n",
    "\n",
    "\n",
    "result = 10 - 4\n",
    "if result:\n",
    "    print('Hello Python')"
   ]
  },
  {
   "cell_type": "code",
   "execution_count": 277,
   "metadata": {},
   "outputs": [
    {
     "name": "stdout",
     "output_type": "stream",
     "text": [
      "친구한테 얻어먹기\n",
      "고오맙다 친구야...\n",
      "냠냠 맛있다\n"
     ]
    }
   ],
   "source": [
    "money = 10 - 10\n",
    "\n",
    "if money:\n",
    "    print('맛난거 먹기')\n",
    "else:\n",
    "    print('친구한테 얻어먹기')\n",
    "    print('고오맙다 친구야...')\n",
    "print('냠냠 맛있다')"
   ]
  },
  {
   "cell_type": "code",
   "execution_count": null,
   "metadata": {},
   "outputs": [
    {
     "name": "stdout",
     "output_type": "stream",
     "text": [
      "짝수 입니다\n"
     ]
    }
   ],
   "source": [
    "# 홀수 짝수 구분하기\n",
    "\n",
    "num = int(input('숫자를 입력하세요: '))\n",
    "\n",
    "if (num %2 == 0):\n",
    "    print('짝수 입니다')\n",
    "else:\n",
    "    print('홀수 입니다')"
   ]
  },
  {
   "cell_type": "code",
   "execution_count": 284,
   "metadata": {},
   "outputs": [
    {
     "name": "stdout",
     "output_type": "stream",
     "text": [
      "D\n"
     ]
    }
   ],
   "source": [
    "score = int(input('성적을 입력하세요: '))\n",
    "\n",
    "if score >= 90:\n",
    "    print('A')\n",
    "elif score >=80:\n",
    "    print('B')\n",
    "elif score >= 70:\n",
    "    print('C')\n",
    "elif score >= 60:\n",
    "    print('D')\n",
    "else:\n",
    "    print('F')"
   ]
  },
  {
   "cell_type": "code",
   "execution_count": 298,
   "metadata": {},
   "outputs": [
    {
     "name": "stdout",
     "output_type": "stream",
     "text": [
      "월요일에 구매가능 하십니다.\n"
     ]
    }
   ],
   "source": [
    "year = int(input('출생연도 끝자리를 입력하세요: '))\n",
    "birth = int(input('나이를 입력하세요: '))\n",
    "\n",
    "if birth >= 65:\n",
    "    print('언제든지 구매 가능하십니다.')\n",
    "elif year == (1 or 6):\n",
    "    print('월요일에 구매가능 하십니다.')\n",
    "elif year == (2 or 7):\n",
    "    print('화요일에 구매가능 하십니다.')\n",
    "elif year == (3 or 8):\n",
    "    print('수요일에 구매가능 하십니다.')\n",
    "elif year == (4 or 9):\n",
    "    print('목요일에 구매가능 하십니다.')\n",
    "else:\n",
    "    print('금요일에 구매가능 하십니다.')"
   ]
  },
  {
   "cell_type": "code",
   "execution_count": 317,
   "metadata": {},
   "outputs": [
    {
     "name": "stdout",
     "output_type": "stream",
     "text": [
      "BMI 지수는 \"27.04\"로 비만입니다.\n"
     ]
    }
   ],
   "source": [
    "tall = float(input('키를 입력하세요(cm): '))\n",
    "weight = float(input('몸무게를 입력하세요(kg): '))\n",
    "\n",
    "BMI = weight / (tall * tall) * 10000\n",
    "\n",
    "if (BMI >= 25):\n",
    "    print(f'BMI 지수는 \"{BMI: .2f}\"로 비만입니다.')\n",
    "elif (BMI >= 23):\n",
    "    print(f'BMI 지수는 \"{BMI: .2f}\"로 과체중입니다.')\n",
    "elif (BMI >= 18.5):\n",
    "    print(f'BMI 지수는 \"{BMI: .2f}\"로 정상체중입니다.')\n",
    "else:\n",
    "    print(f'BMI 지수는 \"{BMI: .2f}\"로 저체중입니다.')\n"
   ]
  },
  {
   "cell_type": "code",
   "execution_count": 32,
   "metadata": {},
   "outputs": [
    {
     "name": "stdout",
     "output_type": "stream",
     "text": [
      "짝수 차량 운행날 입니다.\n",
      "운행 가능합니다.\n"
     ]
    }
   ],
   "source": [
    "day = int(input('오늘은 몇 일?'))\n",
    "carnum = input('차량번호 4자리를 입력하세요.')\n",
    "\n",
    "if day > 31 or 0 > day:\n",
    "    print('일\\'(day)\\' 입력 오류입니다.')\n",
    "elif len(carnum) < 4:\n",
    "    print('차량번호 입력 오류입니다')\n",
    "elif day % 2 == 0 and len(carnum) ==4:\n",
    "    print('짝수 차량 운행날 입니다.')\n",
    "    print('운행 가능합니다.')\n",
    "else:\n",
    "    print('홀수 차량 운행날입니다.')\n",
    "    print('운행가능 합니다.')\n"
   ]
  },
  {
   "cell_type": "code",
   "execution_count": null,
   "metadata": {},
   "outputs": [
    {
     "name": "stdout",
     "output_type": "stream",
     "text": [
      "헤리님 안녕하세요?\n",
      "오늘로 11회 방문하셨어요.\n"
     ]
    }
   ],
   "source": [
    "#떠올리기1\n",
    "Name = input('이름을 입력하세요.: ')\n",
    "visit = input('방문 횟수를 입력하세요.: ')\n",
    "\n",
    "print(Name+'님 안녕하세요?')\n",
    "print('오늘로', visit+'회 방문하셨어요.')\n"
   ]
  },
  {
   "cell_type": "code",
   "execution_count": 56,
   "metadata": {},
   "outputs": [
    {
     "name": "stdout",
     "output_type": "stream",
     "text": [
      "출생년도는 95\n",
      "월은 10\n",
      "일은 13\n",
      "성별은 1\n",
      "주민번호 뒷자리는 1234567\n"
     ]
    }
   ],
   "source": [
    "#떠올리기2\n",
    "#성별, 출생년도, 월, 일, 생년월일, 주민등록번호 뒷자리등 원하는 내용 잘라오기\n",
    "#문자열의 인덱싱과 슬라이싱\n",
    "\n",
    "jumin = '951013-1234567'\n",
    "\n",
    "print('출생년도는', jumin[0:2])\n",
    "print('월은', jumin[2:4])\n",
    "print('일은', jumin[4:6])\n",
    "print('성별은', jumin[7])\n",
    "print('주민번호 뒷자리는', jumin[-7:])"
   ]
  },
  {
   "cell_type": "code",
   "execution_count": 73,
   "metadata": {},
   "outputs": [
    {
     "name": "stdout",
     "output_type": "stream",
     "text": [
      "역삼역 도어읽 로꾸거 역삼역 도어읽 로으앞 .다니입역삼역 ,역삼역 은역번이\n"
     ]
    }
   ],
   "source": [
    "#떠올리기 업그레이드 미션\n",
    "string = '이번역은 역삼역, 역삼역입니다. 앞으로 읽어도 역삼역 거꾸로 읽어도 역삼역'\n",
    "\n",
    "#ToDo: YOUR_CODE_HERE\n",
    "print(string[::-1])\n"
   ]
  },
  {
   "cell_type": "code",
   "execution_count": 88,
   "metadata": {},
   "outputs": [
    {
     "name": "stdout",
     "output_type": "stream",
     "text": [
      "admin 1234\n",
      "admin 1234\n",
      "로그인 되셨습니다!\n"
     ]
    }
   ],
   "source": [
    "user_id = 'admin'\n",
    "user_pw = '1234'\n",
    "\n",
    "# ToDo: YOUR_CODE_HERE\n",
    "\n",
    "user_id_a = input('아이디를 입력하세요: ')\n",
    "user_pw_a = input('비밀번호를 입력하세요: ')\n",
    "\n",
    "# 디버그메시지 출력\n",
    "print(user_id, user_pw)\n",
    "print(user_id_a, user_pw_a)\n",
    "\n",
    "if user_id == user_id_a and user_pw == user_pw_a:\n",
    "    print('로그인 되셨습니다!')\n",
    "elif user_id != user_id_a and user_pw == user_pw_a:\n",
    "    print('아이디를 확인하세요.')\n",
    "elif user_id == user_id_a and user_pw != user_pw_a:\n",
    "    print('비밀번호를 확인하세요')\n",
    "else:\n",
    "    print('로그인에 실패하셨습니다.')"
   ]
  },
  {
   "cell_type": "markdown",
   "metadata": {},
   "source": [
    "#### while 반복문"
   ]
  },
  {
   "cell_type": "code",
   "execution_count": 93,
   "metadata": {},
   "outputs": [
    {
     "name": "stdout",
     "output_type": "stream",
     "text": [
      "0번째 출력:Hello Python\n",
      "1번째 출력:Hello Python\n",
      "2번째 출력:Hello Python\n",
      "3번째 출력:Hello Python\n",
      "4번째 출력:Hello Python\n",
      "반목문 종료\n"
     ]
    }
   ],
   "source": [
    "i = 0\n",
    "while i < 5:\n",
    "    print(f'{i}번째 출력:Hello Python')\n",
    "    i = i+1\n",
    "print('반목문 종료')\n"
   ]
  },
  {
   "cell_type": "code",
   "execution_count": 94,
   "metadata": {},
   "outputs": [
    {
     "name": "stdout",
     "output_type": "stream",
     "text": [
      "1\n",
      "2\n",
      "3\n",
      "4\n",
      "5\n",
      "6\n",
      "7\n",
      "8\n",
      "9\n",
      "10\n",
      "11\n",
      "12\n",
      "13\n",
      "14\n",
      "15\n",
      "16\n",
      "17\n",
      "18\n",
      "19\n",
      "20\n",
      "반목문 종료\n"
     ]
    }
   ],
   "source": [
    "# 1부터 20까지 출력하기로 변경\n",
    "\n",
    "i = 1\n",
    "while i <= 20:\n",
    "    print(i)\n",
    "    i += 1 # <= i = i + 1\n",
    "print('반목문 종료')"
   ]
  },
  {
   "cell_type": "code",
   "execution_count": null,
   "metadata": {},
   "outputs": [
    {
     "name": "stdout",
     "output_type": "stream",
     "text": [
      "1부터 1000까지의 합은 500500입니다.\n"
     ]
    }
   ],
   "source": [
    "# 사용자로부터 정수 값을 받아서\n",
    "# 1부터 입력받은 숫자까지의 합을 구하기기\n",
    "\n",
    "endValue = int(input('합을 원하는 정수값 입력: '))\n",
    "\n",
    "i = 0\n",
    "hap = 0\n",
    "\n",
    "while i < endValue:\n",
    "    i += 1\n",
    "    hap += i \n",
    "print(f'1부터 {endValue}까지의 합은 {hap}입니다.')"
   ]
  },
  {
   "cell_type": "code",
   "execution_count": null,
   "metadata": {},
   "outputs": [
    {
     "name": "stdout",
     "output_type": "stream",
     "text": [
      "1부터 5까지의 곱곱은 120입니다.\n"
     ]
    }
   ],
   "source": [
    "endValue = int(input('곱을 원하는 정수값 입력: '))\n",
    "i = 0\n",
    "gop = 1\n",
    "\n",
    "while i < endValue:\n",
    "    i += 1\n",
    "    gop = gop * i\n",
    "print(f'1부터 {endValue}까지의 곱은 {gop}입니다.')"
   ]
  },
  {
   "cell_type": "code",
   "execution_count": 141,
   "metadata": {},
   "outputs": [
    {
     "name": "stdout",
     "output_type": "stream",
     "text": [
      "1부터 4까지의 짝수합은 6입니다.\n"
     ]
    }
   ],
   "source": [
    "endValue = int(input('합을 원하는 정수값 입력: '))\n",
    "\n",
    "i = 0\n",
    "J_hap = 0\n",
    "\n",
    "while i < endValue:\n",
    "    i += 1\n",
    "    if i % 2 == 0:\n",
    "        J_hap += i\n",
    "print(f'1부터 {endValue}까지의 짝수합은 {J_hap}입니다.')"
   ]
  },
  {
   "cell_type": "code",
   "execution_count": 142,
   "metadata": {},
   "outputs": [
    {
     "name": "stdout",
     "output_type": "stream",
     "text": [
      "1부터 5까지의 홀수합은 9입니다.\n"
     ]
    }
   ],
   "source": [
    "endValue = int(input('합을 원하는 정수값 입력: '))\n",
    "\n",
    "i = 0\n",
    "H_hap = 0\n",
    "\n",
    "while i < endValue:\n",
    "    i += 1\n",
    "    if i % 2 != 0:\n",
    "        H_hap += i\n",
    "print(f'1부터 {endValue}까지의 홀수합은 {H_hap}입니다.')"
   ]
  },
  {
   "cell_type": "code",
   "execution_count": 147,
   "metadata": {},
   "outputs": [
    {
     "name": "stdout",
     "output_type": "stream",
     "text": [
      "\n",
      "1. ADD\n",
      "2. Del\n",
      "3. Quit\n",
      "\n",
      "Enter number:\n",
      "\n"
     ]
    }
   ],
   "source": [
    "prompt = \"\"\"\n",
    "1. ADD\n",
    "2. Del\n",
    "3. Quit\n",
    "\n",
    "Enter number:\n",
    "\"\"\"\n",
    "input_num = 0\n",
    "\n",
    "while input_num !=3:\n",
    "    print(prompt)\n",
    "    input_num = int(input())"
   ]
  },
  {
   "cell_type": "code",
   "execution_count": 148,
   "metadata": {},
   "outputs": [
    {
     "name": "stdout",
     "output_type": "stream",
     "text": [
      "Hello python\n",
      "Hello python\n",
      "Hello python\n",
      "Hello python\n",
      "Hello python\n"
     ]
    }
   ],
   "source": [
    "for i in \"hello\":\n",
    "    print('Hello python')"
   ]
  },
  {
   "cell_type": "code",
   "execution_count": 149,
   "metadata": {},
   "outputs": [
    {
     "name": "stdout",
     "output_type": "stream",
     "text": [
      "h\n",
      "e\n",
      "l\n",
      "l\n",
      "o\n"
     ]
    }
   ],
   "source": [
    "for i in \"hello\":\n",
    "    print(i)"
   ]
  },
  {
   "cell_type": "code",
   "execution_count": 150,
   "metadata": {},
   "outputs": [
    {
     "name": "stdout",
     "output_type": "stream",
     "text": [
      "Hello python\n",
      "Hello python\n",
      "Hello python\n",
      "Hello python\n",
      "Hello python\n"
     ]
    }
   ],
   "source": [
    "for i in range(5):\n",
    "    print('Hello python')"
   ]
  },
  {
   "cell_type": "code",
   "execution_count": 151,
   "metadata": {},
   "outputs": [
    {
     "name": "stdout",
     "output_type": "stream",
     "text": [
      "Hello python\n",
      "Hello python\n",
      "Hello python\n",
      "Hello python\n",
      "Hello python\n",
      "Hello python\n",
      "Hello python\n",
      "Hello python\n",
      "Hello python\n",
      "Hello python\n"
     ]
    }
   ],
   "source": [
    "for i in range(10,0,-1):\n",
    "    print('Hello python')"
   ]
  },
  {
   "cell_type": "code",
   "execution_count": 155,
   "metadata": {},
   "outputs": [
    {
     "name": "stdout",
     "output_type": "stream",
     "text": [
      "Hello python\n",
      "Hello python\n",
      "Hello python\n",
      "Hello python\n",
      "Hello python\n",
      "Hello python\n"
     ]
    }
   ],
   "source": [
    "for i in range(6,0,-1):\n",
    "    print('Hello python')"
   ]
  },
  {
   "cell_type": "code",
   "execution_count": 156,
   "metadata": {},
   "outputs": [
    {
     "name": "stdout",
     "output_type": "stream",
     "text": [
      "Hello python\n",
      "Hello python\n",
      "Hello python\n",
      "Hello python\n",
      "Hello python\n",
      "Hello python\n"
     ]
    }
   ],
   "source": [
    "for i in range(2,8):\n",
    "    print('Hello python')"
   ]
  },
  {
   "cell_type": "code",
   "execution_count": 157,
   "metadata": {},
   "outputs": [
    {
     "name": "stdout",
     "output_type": "stream",
     "text": [
      "Hello python\n",
      "Hello python\n",
      "Hello python\n",
      "Hello python\n"
     ]
    }
   ],
   "source": [
    "for i in range(0,8,2):\n",
    "    print('Hello python')"
   ]
  },
  {
   "cell_type": "code",
   "execution_count": 162,
   "metadata": {},
   "outputs": [
    {
     "name": "stdout",
     "output_type": "stream",
     "text": [
      "1부터 10까지의 합은 55입니다.\n"
     ]
    }
   ],
   "source": [
    "# 사용자로부터 정수 값을 받아서\n",
    "# 1부터 입력받은 숫자까지의 합을 구하기\n",
    "# for문과 range()함수를 사용\n",
    "\n",
    "endValue = int(input('합을 원하는 정수값 입력: '))\n",
    "\n",
    "i = 0\n",
    "hap = 0\n",
    "\n",
    "for i in range(1,endValue+1):\n",
    "    hap += i \n",
    "print(f'1부터 {endValue}까지의 합은 {hap}입니다.')"
   ]
  },
  {
   "cell_type": "code",
   "execution_count": null,
   "metadata": {},
   "outputs": [
    {
     "name": "stdout",
     "output_type": "stream",
     "text": [
      "*** 6단 ***\n",
      "6  * 1 = 6  \n",
      "6  * 2 = 12 \n",
      "6  * 3 = 18 \n",
      "6  * 4 = 24 \n",
      "6  * 5 = 30 \n",
      "6  * 6 = 36 \n",
      "6  * 7 = 42 \n",
      "6  * 8 = 48 \n",
      "6  * 9 = 54 \n"
     ]
    }
   ],
   "source": [
    "# 사용자로부터 입력받은 숫자에 해당하는 구구단 출력\n",
    "\n",
    "dan = int(input('출력할 단 입력: '))\n",
    "\n",
    "i = 0\n",
    "\n",
    "print(f'*** {dan}단 ***')\n",
    "for i in range(1,10):\n",
    "    print(f'{dan}  * {i} = {dan*i:<3}')"
   ]
  },
  {
   "cell_type": "code",
   "execution_count": null,
   "metadata": {},
   "outputs": [
    {
     "name": "stdout",
     "output_type": "stream",
     "text": [
      "*** 8단 ***\n",
      "8 * 1 = 8  \n",
      "8 * 2 = 16 \n",
      "8 * 3 = 24 \n",
      "8 * 4 = 32 \n",
      "8 * 5 = 40 \n",
      "8 * 6 = 48 \n",
      "8 * 7 = 56 \n",
      "8 * 8 = 64 \n",
      "8 * 9 = 72 \n",
      "구구단 끝\n"
     ]
    }
   ],
   "source": [
    "dan = int(input('출력할 단 입력: '))\n",
    "\n",
    "i = 0\n",
    "\n",
    "print(f'*** {dan}단 ***')\n",
    "while i <= 8:\n",
    "    i += 1\n",
    "    print(f'{dan} * {i} = {dan*i:<3}')\n",
    "\n",
    "print('구구단 끝')"
   ]
  },
  {
   "cell_type": "code",
   "execution_count": 195,
   "metadata": {},
   "outputs": [
    {
     "name": "stdout",
     "output_type": "stream",
     "text": [
      "구구단을 외워봅시다 허허허허\n",
      "2 * 1 = 2  \t3 * 1 = 3  \t4 * 1 = 4  \t5 * 1 = 5  \t6 * 1 = 6  \t7 * 1 = 7  \t8 * 1 = 8  \t9 * 1 = 9  \t\n",
      "2 * 2 = 4  \t3 * 2 = 6  \t4 * 2 = 8  \t5 * 2 = 10 \t6 * 2 = 12 \t7 * 2 = 14 \t8 * 2 = 16 \t9 * 2 = 18 \t\n",
      "2 * 3 = 6  \t3 * 3 = 9  \t4 * 3 = 12 \t5 * 3 = 15 \t6 * 3 = 18 \t7 * 3 = 21 \t8 * 3 = 24 \t9 * 3 = 27 \t\n",
      "2 * 4 = 8  \t3 * 4 = 12 \t4 * 4 = 16 \t5 * 4 = 20 \t6 * 4 = 24 \t7 * 4 = 28 \t8 * 4 = 32 \t9 * 4 = 36 \t\n",
      "2 * 5 = 10 \t3 * 5 = 15 \t4 * 5 = 20 \t5 * 5 = 25 \t6 * 5 = 30 \t7 * 5 = 35 \t8 * 5 = 40 \t9 * 5 = 45 \t\n",
      "2 * 6 = 12 \t3 * 6 = 18 \t4 * 6 = 24 \t5 * 6 = 30 \t6 * 6 = 36 \t7 * 6 = 42 \t8 * 6 = 48 \t9 * 6 = 54 \t\n",
      "2 * 7 = 14 \t3 * 7 = 21 \t4 * 7 = 28 \t5 * 7 = 35 \t6 * 7 = 42 \t7 * 7 = 49 \t8 * 7 = 56 \t9 * 7 = 63 \t\n",
      "2 * 8 = 16 \t3 * 8 = 24 \t4 * 8 = 32 \t5 * 8 = 40 \t6 * 8 = 48 \t7 * 8 = 56 \t8 * 8 = 64 \t9 * 8 = 72 \t\n",
      "2 * 9 = 18 \t3 * 9 = 27 \t4 * 9 = 36 \t5 * 9 = 45 \t6 * 9 = 54 \t7 * 9 = 63 \t8 * 9 = 72 \t9 * 9 = 81 \t\n"
     ]
    }
   ],
   "source": [
    "print('구구단을 외워봅시다 허허허허')\n",
    "g, i = 2, 1\n",
    "for i in range(1,10):\n",
    "    for g in range(2,10):\n",
    "        print(f'{g} * {i} = {g*i:<3d}', end='\\t')\n",
    "    print()"
   ]
  },
  {
   "cell_type": "code",
   "execution_count": 198,
   "metadata": {},
   "outputs": [
    {
     "name": "stdout",
     "output_type": "stream",
     "text": [
      "6 21\n",
      "21\n"
     ]
    }
   ],
   "source": [
    "# breack\n",
    "\n",
    "\n",
    "hap = 0\n",
    "for i in range(1,11):\n",
    "    hap += i\n",
    "    if hap >= 20:\n",
    "        print(i, hap)\n",
    "        break\n",
    "\n",
    "print(hap)"
   ]
  },
  {
   "cell_type": "code",
   "execution_count": 199,
   "metadata": {},
   "outputs": [
    {
     "name": "stdout",
     "output_type": "stream",
     "text": [
      "\n",
      "1. ADD\n",
      "2. Del\n",
      "3. Quit\n",
      "\n",
      "Enter number:\n",
      "\n"
     ]
    }
   ],
   "source": [
    "prompt = \"\"\"\n",
    "1. ADD\n",
    "2. Del\n",
    "3. Quit\n",
    "\n",
    "Enter number:\n",
    "\"\"\"\n",
    "input_num = 0\n",
    "\n",
    "while True:\n",
    "    print(prompt)\n",
    "    input_num = int(input())\n",
    "    if input_num == 3:\n",
    "        break\n"
   ]
  },
  {
   "cell_type": "code",
   "execution_count": 202,
   "metadata": {},
   "outputs": [
    {
     "name": "stdout",
     "output_type": "stream",
     "text": [
      "1 3 5 7 9 \n",
      " 25\n"
     ]
    }
   ],
   "source": [
    "# continue\n",
    "hap = 0\n",
    "for i in range(1, 11):\n",
    "    if i % 2 == 0:\n",
    "        continue\n",
    "    print(i, end=\" \")\n",
    "    hap += i\n",
    "\n",
    "print('\\n',hap)"
   ]
  },
  {
   "cell_type": "code",
   "execution_count": null,
   "metadata": {},
   "outputs": [
    {
     "name": "stdout",
     "output_type": "stream",
     "text": [
      "54\n",
      "UP\n",
      "UP\n",
      "DOWN\n",
      "DOWN\n",
      "정답입니다.\n"
     ]
    }
   ],
   "source": [
    "import random\n",
    "\n",
    "answer = random.randint(1,100)\n",
    "\n",
    "print(answer)\n",
    "\n",
    "while True:\n",
    "    x = int(input('정답을 입력해 주세요: '))\n",
    "    if  x < answer:\n",
    "        print('UP')\n",
    "    elif x > answer:\n",
    "        print('DOWN')\n",
    "    else :\n",
    "        print('정답입니다.')\n",
    "        break\n"
   ]
  },
  {
   "cell_type": "code",
   "execution_count": 267,
   "metadata": {},
   "outputs": [
    {
     "name": "stdout",
     "output_type": "stream",
     "text": [
      "39\n",
      "많이 크게!\n",
      "많이 크게!\n",
      "많이 크게!\n",
      "많이 크게!\n",
      "많이 크게!\n",
      "많이 크게!\n",
      "많이 크게!\n",
      "많이 크게!\n",
      "쪼금 더 크게!\n",
      "정답입니다.\n"
     ]
    }
   ],
   "source": [
    "import random\n",
    "\n",
    "answer = random.randint(1,100)\n",
    "\n",
    "print(answer)\n",
    "\n",
    "while True:\n",
    "    x = int(input('정답을 입력해 주세요: '))\n",
    "    difference = x - answer\n",
    "    if difference == 0:\n",
    "        print('정답입니다.') \n",
    "        break\n",
    "    elif 0 < difference < 10:\n",
    "        print('쪼금 더 작게!')\n",
    "    elif difference >= 10:\n",
    "        print('많이 작게!')\n",
    "    elif -10 < difference < 0:\n",
    "        print('쪼금 더 크게!')\n",
    "    else:\n",
    "        print('많이 크게!')"
   ]
  },
  {
   "cell_type": "code",
   "execution_count": 300,
   "metadata": {},
   "outputs": [
    {
     "name": "stdout",
     "output_type": "stream",
     "text": [
      "1 2 4 7 8 11 13 14 16 17 19 "
     ]
    }
   ],
   "source": [
    "# 20 보다 작은 정수 중에서 3의 배수와 5의 배수를 제외하고 출력\n",
    "\n",
    "x = 0\n",
    "\n",
    "while True:\n",
    "    if x >= 20:\n",
    "        break\n",
    "    if x % 3 == 0 or x % 5 == 0:\n",
    "        x += 1\n",
    "        continue\n",
    "    print(x, end=' ')\n",
    "    x += 1"
   ]
  },
  {
   "cell_type": "code",
   "execution_count": 303,
   "metadata": {},
   "outputs": [
    {
     "name": "stdout",
     "output_type": "stream",
     "text": [
      "1 2 3 3의 배수\n",
      "3 4 5 5의 배수\n",
      "6 3의 배수\n",
      "6 7 8 9 3의 배수\n",
      "9 10 5의 배수\n",
      "11 12 3의 배수\n",
      "12 13 14 15 3의 배수\n",
      "15 16 17 18 3의 배수\n",
      "18 19 "
     ]
    }
   ],
   "source": [
    "x = 0\n",
    "\n",
    "while True:\n",
    "    x += 1\n",
    "    if x >= 20:\n",
    "        break\n",
    "    if x % 3 == 0:\n",
    "        print(x, '3의 배수')\n",
    "    elif x % 5 == 0:\n",
    "        print(x, '5의 배수')\n",
    "        continue\n",
    "    print(x, end=' ')"
   ]
  },
  {
   "cell_type": "code",
   "execution_count": 346,
   "metadata": {},
   "outputs": [
    {
     "name": "stdout",
     "output_type": "stream",
     "text": [
      "\n",
      "\n",
      "* * \n",
      "\n",
      "* * * * \n",
      "\n",
      "* * * * * * \n",
      "\n",
      "* * * * * * * * \n",
      "\n",
      "* * * * * * * * * * \n",
      "\n",
      "* * * * * * * * * * * * \n",
      "\n",
      "* * * * * * * * * * * * * * \n",
      "\n",
      "* * * * * * * * * * * * * * * * \n",
      "\n",
      "* * * * * * * * * * * * * * * * * * \n",
      "\n"
     ]
    }
   ],
   "source": [
    "for i in range(1, 11):\n",
    "    for i in range(1,i*2-1):\n",
    "        print('*', end=' ')\n",
    "    print('\\n')"
   ]
  },
  {
   "cell_type": "code",
   "execution_count": 363,
   "metadata": {},
   "outputs": [
    {
     "name": "stdout",
     "output_type": "stream",
     "text": [
      "* * * * * * * * * * * * * * * * * * * \n",
      "\n",
      "* * * * * * * * * * * * * * * * * \n",
      "\n",
      "* * * * * * * * * * * * * * * \n",
      "\n",
      "* * * * * * * * * * * * * \n",
      "\n",
      "* * * * * * * * * * * \n",
      "\n",
      "* * * * * * * * * \n",
      "\n",
      "* * * * * * * \n",
      "\n",
      "* * * * * \n",
      "\n",
      "* * * \n",
      "\n",
      "* \n",
      "\n",
      "\n",
      "\n",
      "\n",
      "\n",
      "\n",
      "\n",
      "\n",
      "\n",
      "\n",
      "\n",
      "\n",
      "\n",
      "\n",
      "\n",
      "\n",
      "\n",
      "\n",
      "\n"
     ]
    }
   ],
   "source": [
    "for i in range(20,1,-1):\n",
    "    for i in range(20,(2*i-1)):\n",
    "        print('*', end=' ')\n",
    "    print('\\n')"
   ]
  },
  {
   "cell_type": "code",
   "execution_count": 364,
   "metadata": {},
   "outputs": [
    {
     "name": "stdout",
     "output_type": "stream",
     "text": [
      "                  **\n",
      "                 ****\n",
      "                ******\n",
      "               ********\n",
      "              **********\n",
      "             ************\n",
      "            **************\n",
      "           ****************\n",
      "          ******************\n",
      "         ********************\n",
      "        **********************\n",
      "       ************************\n",
      "      **************************\n",
      "     ****************************\n",
      "    ******************************\n",
      "   ********************************\n",
      "  **********************************\n",
      " ************************************\n",
      "**************************************\n"
     ]
    }
   ],
   "source": [
    "height = int(input('트리높이 입력하세요.: '))\n",
    "\n",
    "i = 1\n",
    "\n",
    "while i < height:\n",
    "    print(' ' * (height - i - 1) + '*' * (2 * i * + 1))\n",
    "    i += 1"
   ]
  },
  {
   "cell_type": "markdown",
   "metadata": {},
   "source": [
    "#### list"
   ]
  },
  {
   "cell_type": "code",
   "execution_count": 365,
   "metadata": {},
   "outputs": [
    {
     "name": "stdout",
     "output_type": "stream",
     "text": [
      "<class 'list'>\n"
     ]
    }
   ],
   "source": [
    "a = []\n",
    "\n",
    "print(type(a))"
   ]
  },
  {
   "cell_type": "code",
   "execution_count": 377,
   "metadata": {},
   "outputs": [],
   "source": [
    "a = [1, 2, 3]\n",
    "b = ['Life', 'is', 'too', 'short']\n",
    "c = [1, 'hello']\n",
    "d = [1, 'hello', [2, 'hi']]"
   ]
  },
  {
   "cell_type": "code",
   "execution_count": null,
   "metadata": {},
   "outputs": [
    {
     "data": {
      "text/plain": [
       "'Life'"
      ]
     },
     "execution_count": 378,
     "metadata": {},
     "output_type": "execute_result"
    }
   ],
   "source": [
    "b = ['Life', 'is', 'too', 'short']\n",
    "\n",
    "b[0]"
   ]
  },
  {
   "cell_type": "code",
   "execution_count": 379,
   "metadata": {},
   "outputs": [
    {
     "data": {
      "text/plain": [
       "'short'"
      ]
     },
     "execution_count": 379,
     "metadata": {},
     "output_type": "execute_result"
    }
   ],
   "source": [
    "b[-1]"
   ]
  },
  {
   "cell_type": "code",
   "execution_count": 380,
   "metadata": {},
   "outputs": [
    {
     "data": {
      "text/plain": [
       "['Life', 'is', 'too']"
      ]
     },
     "execution_count": 380,
     "metadata": {},
     "output_type": "execute_result"
    }
   ],
   "source": [
    "b[:3]"
   ]
  },
  {
   "cell_type": "code",
   "execution_count": 381,
   "metadata": {},
   "outputs": [
    {
     "data": {
      "text/plain": [
       "['is', 'too', 'short']"
      ]
     },
     "execution_count": 381,
     "metadata": {},
     "output_type": "execute_result"
    }
   ],
   "source": [
    "b[1:]"
   ]
  },
  {
   "cell_type": "code",
   "execution_count": 382,
   "metadata": {},
   "outputs": [
    {
     "data": {
      "text/plain": [
       "['Life', 'is', 'too', 'short']"
      ]
     },
     "execution_count": 382,
     "metadata": {},
     "output_type": "execute_result"
    }
   ],
   "source": [
    "b[:]"
   ]
  },
  {
   "cell_type": "code",
   "execution_count": 383,
   "metadata": {},
   "outputs": [
    {
     "data": {
      "text/plain": [
       "'hi'"
      ]
     },
     "execution_count": 383,
     "metadata": {},
     "output_type": "execute_result"
    }
   ],
   "source": [
    "d[2][1]"
   ]
  },
  {
   "cell_type": "code",
   "execution_count": 384,
   "metadata": {},
   "outputs": [
    {
     "data": {
      "text/plain": [
       "'i'"
      ]
     },
     "execution_count": 384,
     "metadata": {},
     "output_type": "execute_result"
    }
   ],
   "source": [
    "d[2][1][1]"
   ]
  },
  {
   "cell_type": "code",
   "execution_count": 387,
   "metadata": {},
   "outputs": [
    {
     "name": "stdout",
     "output_type": "stream",
     "text": [
      "['a', 'b']\n"
     ]
    }
   ],
   "source": [
    "a = [1, 2, 3, ['a','b','c'],4 , 5]\n",
    "\n",
    "print(a[3][:2])"
   ]
  },
  {
   "cell_type": "code",
   "execution_count": 395,
   "metadata": {},
   "outputs": [],
   "source": [
    "a = [10 , 20, 30, 40 ,50]"
   ]
  },
  {
   "cell_type": "code",
   "execution_count": 396,
   "metadata": {},
   "outputs": [
    {
     "name": "stdout",
     "output_type": "stream",
     "text": [
      "[10, 20, 30, 40, 50]\n",
      "[10, 100, 30, 40, 50]\n"
     ]
    }
   ],
   "source": [
    "print(a)\n",
    "\n",
    "a[1]=100\n",
    "\n",
    "print(a)"
   ]
  },
  {
   "cell_type": "code",
   "execution_count": 398,
   "metadata": {},
   "outputs": [
    {
     "name": "stdout",
     "output_type": "stream",
     "text": [
      "[10, 100, 200, 40, 50]\n",
      "[10, 100, 40, 50]\n"
     ]
    }
   ],
   "source": [
    "print(a)\n",
    "\n",
    "a[1:3] = [100]\n",
    "\n",
    "print(a)"
   ]
  },
  {
   "cell_type": "code",
   "execution_count": 400,
   "metadata": {},
   "outputs": [],
   "source": [
    "fruits = ['apple', 'banana']"
   ]
  },
  {
   "cell_type": "code",
   "execution_count": null,
   "metadata": {},
   "outputs": [
    {
     "name": "stdout",
     "output_type": "stream",
     "text": [
      "['apple', 'banana']\n",
      "['apple', 'banana', 'cherry']\n"
     ]
    }
   ],
   "source": [
    "print(fruits)\n",
    "\n",
    "fruits.append('cherry')\n",
    "\n",
    "print(fruits)"
   ]
  },
  {
   "cell_type": "code",
   "execution_count": 402,
   "metadata": {},
   "outputs": [
    {
     "name": "stdout",
     "output_type": "stream",
     "text": [
      "['apple', 'banana', 'cherry']\n",
      "['apple', 'mango', 'banana', 'cherry']\n"
     ]
    }
   ],
   "source": [
    "print(fruits)\n",
    "fruits.insert(1, 'mango')\n",
    "print(fruits)"
   ]
  },
  {
   "cell_type": "code",
   "execution_count": 403,
   "metadata": {},
   "outputs": [
    {
     "name": "stdout",
     "output_type": "stream",
     "text": [
      "['apple', 'mango', 'banana', 'cherry']\n",
      "['apple', 'mango', 'banana']\n"
     ]
    }
   ],
   "source": [
    "print(fruits)\n",
    "fruits.pop()\n",
    "print(fruits)"
   ]
  },
  {
   "cell_type": "code",
   "execution_count": 404,
   "metadata": {},
   "outputs": [
    {
     "name": "stdout",
     "output_type": "stream",
     "text": [
      "['apple', 'mango', 'banana']\n",
      "['apple', 'banana']\n"
     ]
    }
   ],
   "source": [
    "print(fruits)\n",
    "fruits.pop(1)\n",
    "print(fruits)"
   ]
  },
  {
   "cell_type": "code",
   "execution_count": 405,
   "metadata": {},
   "outputs": [
    {
     "name": "stdout",
     "output_type": "stream",
     "text": [
      "['apple', 'banana']\n",
      "['banana']\n"
     ]
    }
   ],
   "source": [
    "print(fruits)\n",
    "fruits.remove('apple')\n",
    "print(fruits)"
   ]
  },
  {
   "cell_type": "code",
   "execution_count": 410,
   "metadata": {},
   "outputs": [],
   "source": [
    "score = [5, 30, 70, 50, 100]"
   ]
  },
  {
   "cell_type": "code",
   "execution_count": 411,
   "metadata": {},
   "outputs": [
    {
     "name": "stdout",
     "output_type": "stream",
     "text": [
      "[5, 30, 70, 50, 100]\n",
      "[100, 70, 50, 30, 5]\n"
     ]
    }
   ],
   "source": [
    "print(score)\n",
    "score.sort(reverse=True)\n",
    "print(score)"
   ]
  },
  {
   "cell_type": "code",
   "execution_count": 412,
   "metadata": {},
   "outputs": [
    {
     "data": {
      "text/plain": [
       "5"
      ]
     },
     "execution_count": 412,
     "metadata": {},
     "output_type": "execute_result"
    }
   ],
   "source": [
    "len(score)"
   ]
  },
  {
   "cell_type": "code",
   "execution_count": 414,
   "metadata": {},
   "outputs": [],
   "source": [
    "score = [5, 50, 30, 70, 50, 100, 50]"
   ]
  },
  {
   "cell_type": "code",
   "execution_count": 415,
   "metadata": {},
   "outputs": [
    {
     "data": {
      "text/plain": [
       "3"
      ]
     },
     "execution_count": 415,
     "metadata": {},
     "output_type": "execute_result"
    }
   ],
   "source": [
    "score.count(50)"
   ]
  },
  {
   "cell_type": "code",
   "execution_count": 418,
   "metadata": {},
   "outputs": [
    {
     "name": "stdout",
     "output_type": "stream",
     "text": [
      "5\n",
      "100\n",
      "355\n"
     ]
    }
   ],
   "source": [
    "print(min(score))\n",
    "print(max(score))\n",
    "print(sum(score))"
   ]
  },
  {
   "cell_type": "code",
   "execution_count": 422,
   "metadata": {},
   "outputs": [
    {
     "name": "stdout",
     "output_type": "stream",
     "text": [
      "65.0\n"
     ]
    }
   ],
   "source": [
    "score = [100,50, 30, 50, 80,50, 90, 70]\n",
    "\n",
    "print(sum(score) / len(score))\n"
   ]
  },
  {
   "cell_type": "code",
   "execution_count": 452,
   "metadata": {},
   "outputs": [
    {
     "name": "stdout",
     "output_type": "stream",
     "text": [
      "1번 학생은 합격 입니다.\n",
      "2번 학생은 불합격입니다.\n",
      "3번 학생은 합격 입니다.\n",
      "4번 학생은 불합격입니다.\n",
      "5번 학생은 합격 입니다.\n",
      "\n",
      "\n"
     ]
    }
   ],
   "source": [
    "marks = [90, 25, 67, 45, 80]\n",
    "\n",
    "a = 0\n",
    "\n",
    "for i in marks:\n",
    "    a += 1\n",
    "    if i >= 60:\n",
    "        print(f'{a}번 학생은 합격 입니다.')\n",
    "    else:\n",
    "        print(f'{a}번 학생은 불합격입니다.')\n",
    "print('\\n')\n"
   ]
  },
  {
   "cell_type": "code",
   "execution_count": 458,
   "metadata": {},
   "outputs": [
    {
     "name": "stdout",
     "output_type": "stream",
     "text": [
      "끝말잇기 게임\n",
      "시작\n",
      "바보\n",
      "보물\n",
      "물질\n",
      "'질'로 시작하는 단어를 입력하세요.: \n",
      "'질'로 시작하는 단어를 입력하세요.: \n",
      "질\n",
      "이미 사용된 단어입니다. 다른 단어를 사용하세요.\n",
      "'질'로 시작하는 단어를 입력하세요.: \n",
      "게임을 종료합니다!\n"
     ]
    }
   ],
   "source": [
    "print(\"끝말잇기 게임\")\n",
    "print(\"시작\")\n",
    "\n",
    "words = []\n",
    "current_word = input('첫 번째 단어를 입력하세요.: ')\n",
    "words.append(current_word)\n",
    "print(current_word)\n",
    "\n",
    "\n",
    "while True:\n",
    "    last = current_word[-1]\n",
    "    new_word = input(f\"'{last}로 시작하는 단어를 입력하세요.: \")\n",
    "\n",
    "    if new_word == '나가기':\n",
    "        print('게임을 종료합니다!')\n",
    "        break\n",
    "    elif new_word in words:\n",
    "        print('이미 사용된 단어입니다. 다른 단어를 사용하세요.')\n",
    "        continue\n",
    "    elif new_word[0] != last:\n",
    "        print(f\"'{last}'로 시작하는 단어를 입력하세요.: \")\n",
    "        continue\n",
    "    words.append(new_word)\n",
    "    current_word = new_word\n",
    "    print(new_word)\n",
    "\n",
    "\n",
    "\n"
   ]
  },
  {
   "cell_type": "code",
   "execution_count": 5,
   "metadata": {},
   "outputs": [
    {
     "name": "stdout",
     "output_type": "stream",
     "text": [
      "끝말잇기 게임 시작!!!\n",
      "Let's go!\n",
      "김치\n",
      "치성\n",
      "성숙\n",
      "숙모\n",
      "모모\n",
      "\"모\"로 시작하는 단어를 입력하세요!\n",
      "\"모\"로 시작하는 단어를 입력하세요!\n",
      "\"모\"로 시작하는 단어를 입력하세요!\n",
      "게임을 종료합니다!\n"
     ]
    }
   ],
   "source": [
    "print(\"끝말잇기 게임 시작!!!\")\n",
    "print(\"Let's go!\")\n",
    "\n",
    "words = []\n",
    "crn_word = input('시작 단어를 입력하세요!')\n",
    "words.append(crn_word)\n",
    "print(crn_word)\n",
    "\n",
    "while True:\n",
    "    last_word = crn_word[-1]\n",
    "    n_word = input(f\"'{last_word}'로 시작하는 단어를 입력하세요!'\")\n",
    "    if n_word == '그만':\n",
    "        print('게임을 종료합니다!')\n",
    "        break\n",
    "    elif n_word[0] != last_word:\n",
    "        print(f'\"{last_word}\"로 시작하는 단어를 입력하세요!')\n",
    "        continue\n",
    "    elif n_word in words:\n",
    "        print('이미 사용된 단어입니다!')\n",
    "        continue\n",
    "    words.append(n_word)\n",
    "    crn_word = n_word\n",
    "    print(n_word)\n",
    "\n"
   ]
  },
  {
   "cell_type": "markdown",
   "metadata": {},
   "source": [
    "### 2024-12-23"
   ]
  },
  {
   "cell_type": "code",
   "execution_count": null,
   "metadata": {},
   "outputs": [],
   "source": [
    "# 구구단 출력\n",
    "\n",
    "2 4 6 8 10 12 14 16 18"
   ]
  },
  {
   "cell_type": "code",
   "execution_count": 8,
   "metadata": {},
   "outputs": [
    {
     "name": "stdout",
     "output_type": "stream",
     "text": [
      "2 4 6 8 10 12 14 16 18 "
     ]
    }
   ],
   "source": [
    "for su in range(1,10):\n",
    "    print(2*su ,end = ' ')"
   ]
  },
  {
   "cell_type": "code",
   "execution_count": 15,
   "metadata": {},
   "outputs": [
    {
     "name": "stdout",
     "output_type": "stream",
     "text": [
      "1 * 1 = 1  \t2 * 1 = 2  \t3 * 1 = 3  \t4 * 1 = 4  \t5 * 1 = 5  \t6 * 1 = 6  \t7 * 1 = 7  \t8 * 1 = 8  \t9 * 1 = 9  \t\n",
      "1 * 2 = 2  \t2 * 2 = 4  \t3 * 2 = 6  \t4 * 2 = 8  \t5 * 2 = 10 \t6 * 2 = 12 \t7 * 2 = 14 \t8 * 2 = 16 \t9 * 2 = 18 \t\n",
      "1 * 3 = 3  \t2 * 3 = 6  \t3 * 3 = 9  \t4 * 3 = 12 \t5 * 3 = 15 \t6 * 3 = 18 \t7 * 3 = 21 \t8 * 3 = 24 \t9 * 3 = 27 \t\n",
      "1 * 4 = 4  \t2 * 4 = 8  \t3 * 4 = 12 \t4 * 4 = 16 \t5 * 4 = 20 \t6 * 4 = 24 \t7 * 4 = 28 \t8 * 4 = 32 \t9 * 4 = 36 \t\n",
      "1 * 5 = 5  \t2 * 5 = 10 \t3 * 5 = 15 \t4 * 5 = 20 \t5 * 5 = 25 \t6 * 5 = 30 \t7 * 5 = 35 \t8 * 5 = 40 \t9 * 5 = 45 \t\n",
      "1 * 6 = 6  \t2 * 6 = 12 \t3 * 6 = 18 \t4 * 6 = 24 \t5 * 6 = 30 \t6 * 6 = 36 \t7 * 6 = 42 \t8 * 6 = 48 \t9 * 6 = 54 \t\n",
      "1 * 7 = 7  \t2 * 7 = 14 \t3 * 7 = 21 \t4 * 7 = 28 \t5 * 7 = 35 \t6 * 7 = 42 \t7 * 7 = 49 \t8 * 7 = 56 \t9 * 7 = 63 \t\n",
      "1 * 8 = 8  \t2 * 8 = 16 \t3 * 8 = 24 \t4 * 8 = 32 \t5 * 8 = 40 \t6 * 8 = 48 \t7 * 8 = 56 \t8 * 8 = 64 \t9 * 8 = 72 \t\n",
      "1 * 9 = 9  \t2 * 9 = 18 \t3 * 9 = 27 \t4 * 9 = 36 \t5 * 9 = 45 \t6 * 9 = 54 \t7 * 9 = 63 \t8 * 9 = 72 \t9 * 9 = 81 \t\n"
     ]
    }
   ],
   "source": [
    "for su in range(1,10):\n",
    "    for dan in range(1,10):\n",
    "        print(f'{dan} * {su} = {dan*su: <3d}', end = '\\t' )\n",
    "    print()"
   ]
  },
  {
   "cell_type": "code",
   "execution_count": null,
   "metadata": {},
   "outputs": [],
   "source": [
    "# 자판기 만들기\n",
    "\n",
    "i = int(input('커피 갯수를 입력하세요!'))\n",
    "\n",
    "while i > 0:\n",
    "    Money = int(input('돈을 입력하세요!'))\n",
    "    \n",
    "    if Money == 300:\n",
    "        i -= 1\n",
    "        print(f'커피가 {i}잔 남았습니다')\n",
    "        continue\n",
    "    elif Money < 300:\n",
    "        print(f'돈이 모자랍니다. 커피는 한 잔에 300원입니다.')\n",
    "        continue\n",
    "    elif Money > 300:\n",
    "        i -= 1\n",
    "        change = Money - 300\n",
    "        print(f'잔돈 {change}원을 받아가세요! 커피가 {i}잔 남았습니다.')\n",
    "        continue\n",
    "\n",
    "    if i == 0:\n",
    "        print('커피가 모두 소진되어 판매를 종료합니다!')\n",
    "        break\n",
    "\n",
    "print(f'맛있게 드세요! 남은커피는 {i}잔 입니다!')\n",
    " "
   ]
  },
  {
   "cell_type": "markdown",
   "metadata": {},
   "source": [
    "if <표현식>:, while <표현식>:에서 <표현식> 부분이 bool 타입이 아니라면 실행 중에 bool타입으로 변환된다고 생각하면 좋습니다.\n",
    " \n",
    "예를 들어 stock == 10일 때 \n",
    "if stock: --> if 10: --> if True: 과 같이 평가됩니다.\n",
    " \n",
    "stock == 0일 때에는\n",
    "if stock: --> if 0: --> if False: 와 같이 평가됩니다!\n",
    " \n",
    "stock이 양수이며 실행 중에 줄어든다고 가정할 때,\n",
    " \n",
    "if bool(stock): : 이렇게 작성할 필요는 없습니다!\n",
    " \n",
    "if stock != 0: : 이것도 굳이 이렇게 쓸 필요가 없지만, 자신이 읽기 편하다면 이렇게 쓰는 것이 좋습니다.\n",
    " \n",
    "if stock > 0: : 이건 기존 코드와는 완전히 다릅니다. 만약 stock이 1씩 줄어들지 않는다면 stock이 음수가 될 수도 있습니다. 이 경우에는 stock == 0인 순간을 건너뛸 수 있기 때문에 종료 조건에 걸리지 않습니다. 즉 무한 루프에 빠질 수 있습니다. 부등호는 안전하게 이런 경우를 처리하게 도와줍니다.\n",
    " "
   ]
  },
  {
   "cell_type": "markdown",
   "metadata": {},
   "source": [
    "수도코드\n",
    "\n",
    "커피는 10잔\n",
    "가격은 300\n",
    "\n",
    "\n",
    "커피가 남아있는 동안:\n",
    "    돈 입력받아\n",
    "    \n",
    "    돈 많아 부자야:\n",
    "        커피 팔아        \n",
    "        거스름돈 줘    \n",
    "    아니면:\n",
    "        커피 안 팔아        \n",
    "        돈 그냥 돌려줘버려"
   ]
  },
  {
   "cell_type": "markdown",
   "metadata": {},
   "source": [
    "#### 딕셔너리"
   ]
  },
  {
   "cell_type": "code",
   "execution_count": null,
   "metadata": {},
   "outputs": [],
   "source": [
    "menu = {'김밥':2000, '라면':3000, '돈까스':5000}"
   ]
  },
  {
   "cell_type": "code",
   "execution_count": 41,
   "metadata": {},
   "outputs": [
    {
     "name": "stdout",
     "output_type": "stream",
     "text": [
      "<class 'dict'>\n"
     ]
    }
   ],
   "source": [
    "print(type(menu ))"
   ]
  },
  {
   "cell_type": "code",
   "execution_count": 42,
   "metadata": {},
   "outputs": [
    {
     "data": {
      "text/plain": [
       "2000"
      ]
     },
     "execution_count": 42,
     "metadata": {},
     "output_type": "execute_result"
    }
   ],
   "source": [
    "menu['김밥']"
   ]
  },
  {
   "cell_type": "code",
   "execution_count": 43,
   "metadata": {},
   "outputs": [
    {
     "data": {
      "text/plain": [
       "{'김밥': 2500, '라면': 3000, '돈까스': 5000}"
      ]
     },
     "execution_count": 43,
     "metadata": {},
     "output_type": "execute_result"
    }
   ],
   "source": [
    "menu['김밥'] = 2500 #내부 데이터 변경 가능\n",
    "menu"
   ]
  },
  {
   "cell_type": "code",
   "execution_count": 44,
   "metadata": {},
   "outputs": [
    {
     "data": {
      "text/plain": [
       "{'김밥': 2500, '라면': 3000, '돈까스': 5000, '떡볶이': 3000}"
      ]
     },
     "execution_count": 44,
     "metadata": {},
     "output_type": "execute_result"
    }
   ],
   "source": [
    "menu['떡볶이'] = 3000 #dic에 없는 값 대입하면 추가됨\n",
    "menu"
   ]
  },
  {
   "cell_type": "code",
   "execution_count": 45,
   "metadata": {},
   "outputs": [
    {
     "ename": "KeyError",
     "evalue": "'로제떡볶이'",
     "output_type": "error",
     "traceback": [
      "\u001b[1;31m---------------------------------------------------------------------------\u001b[0m",
      "\u001b[1;31mKeyError\u001b[0m                                  Traceback (most recent call last)",
      "Cell \u001b[1;32mIn[45], line 1\u001b[0m\n\u001b[1;32m----> 1\u001b[0m \u001b[43mmenu\u001b[49m\u001b[43m[\u001b[49m\u001b[38;5;124;43m'\u001b[39;49m\u001b[38;5;124;43m로제떡볶이\u001b[39;49m\u001b[38;5;124;43m'\u001b[39;49m\u001b[43m]\u001b[49m \u001b[38;5;241m+\u001b[39m\u001b[38;5;241m=\u001b[39m \u001b[38;5;241m3000\u001b[39m \n\u001b[0;32m      2\u001b[0m menu\n",
      "\u001b[1;31mKeyError\u001b[0m: '로제떡볶이'"
     ]
    }
   ],
   "source": [
    "menu['로제떡볶이'] += 3000 \n",
    "menu"
   ]
  },
  {
   "cell_type": "code",
   "execution_count": 8,
   "metadata": {},
   "outputs": [],
   "source": [
    "menu = {'김밥':2000, '라면':3000, '돈까스':5000}"
   ]
  },
  {
   "cell_type": "code",
   "execution_count": 9,
   "metadata": {},
   "outputs": [
    {
     "data": {
      "text/plain": [
       "dict_keys(['김밥', '라면', '돈까스'])"
      ]
     },
     "execution_count": 9,
     "metadata": {},
     "output_type": "execute_result"
    }
   ],
   "source": [
    "menu.keys()"
   ]
  },
  {
   "cell_type": "code",
   "execution_count": 10,
   "metadata": {},
   "outputs": [
    {
     "data": {
      "text/plain": [
       "dict_values([2000, 3000, 5000])"
      ]
     },
     "execution_count": 10,
     "metadata": {},
     "output_type": "execute_result"
    }
   ],
   "source": [
    "menu.values()"
   ]
  },
  {
   "cell_type": "code",
   "execution_count": 11,
   "metadata": {},
   "outputs": [
    {
     "data": {
      "text/plain": [
       "[('김밥', 2000), ('라면', 3000), ('돈까스', 5000)]"
      ]
     },
     "execution_count": 11,
     "metadata": {},
     "output_type": "execute_result"
    }
   ],
   "source": [
    "list(menu.items())"
   ]
  },
  {
   "cell_type": "code",
   "execution_count": 12,
   "metadata": {},
   "outputs": [
    {
     "name": "stdout",
     "output_type": "stream",
     "text": [
      "{'김밥': 2000, '라면': 3000, '돈까스': 5000}\n",
      "{'김밥': 2000, '라면': 3000, '돈까스': 5000}\n",
      "{'김밥': 2000, '라면': 3000, '돈까스': 5000}\n"
     ]
    }
   ],
   "source": [
    "for menu_item in menu.keys():\n",
    "    print(menu)"
   ]
  },
  {
   "cell_type": "code",
   "execution_count": 13,
   "metadata": {},
   "outputs": [
    {
     "name": "stdout",
     "output_type": "stream",
     "text": [
      "2000\n",
      "3000\n",
      "5000\n"
     ]
    }
   ],
   "source": [
    "for price in menu.values():\n",
    "    print(price)"
   ]
  },
  {
   "cell_type": "code",
   "execution_count": 14,
   "metadata": {},
   "outputs": [
    {
     "name": "stdout",
     "output_type": "stream",
     "text": [
      "('김밥', 2000)\n",
      "('라면', 3000)\n",
      "('돈까스', 5000)\n"
     ]
    }
   ],
   "source": [
    "for price in menu.items():\n",
    "    print(price)"
   ]
  },
  {
   "cell_type": "code",
   "execution_count": 15,
   "metadata": {},
   "outputs": [
    {
     "data": {
      "text/plain": [
       "2000"
      ]
     },
     "execution_count": 15,
     "metadata": {},
     "output_type": "execute_result"
    }
   ],
   "source": [
    "menu.pop('김밥')"
   ]
  },
  {
   "cell_type": "code",
   "execution_count": 16,
   "metadata": {},
   "outputs": [
    {
     "data": {
      "text/plain": [
       "{'라면': 3000, '돈까스': 5000}"
      ]
     },
     "execution_count": 16,
     "metadata": {},
     "output_type": "execute_result"
    }
   ],
   "source": [
    "menu"
   ]
  },
  {
   "cell_type": "code",
   "execution_count": 17,
   "metadata": {},
   "outputs": [
    {
     "data": {
      "text/plain": [
       "('돈까스', 5000)"
      ]
     },
     "execution_count": 17,
     "metadata": {},
     "output_type": "execute_result"
    }
   ],
   "source": [
    "menu.popitem()"
   ]
  },
  {
   "cell_type": "code",
   "execution_count": 18,
   "metadata": {},
   "outputs": [],
   "source": [
    "addrs = {'name': 2000 ,'phone':3000 , 'addr':5000}"
   ]
  },
  {
   "cell_type": "code",
   "execution_count": 19,
   "metadata": {},
   "outputs": [],
   "source": [
    "addr_list = [{'name': 2000 ,'phone':3000 , 'addr':5000},\n",
    "             {'name': 2000 ,'phone':3000 , 'addr':5000},\n",
    "             {'name': 2000 ,'phone':3000 , 'addr':5000}]"
   ]
  },
  {
   "cell_type": "code",
   "execution_count": 20,
   "metadata": {},
   "outputs": [
    {
     "name": "stdout",
     "output_type": "stream",
     "text": [
      "라면 3000\n"
     ]
    }
   ],
   "source": [
    "for key, value in menu.items():\n",
    "    print(key, value)"
   ]
  },
  {
   "cell_type": "code",
   "execution_count": 21,
   "metadata": {},
   "outputs": [
    {
     "ename": "KeyError",
     "evalue": "'김밥'",
     "output_type": "error",
     "traceback": [
      "\u001b[1;31m---------------------------------------------------------------------------\u001b[0m",
      "\u001b[1;31mKeyError\u001b[0m                                  Traceback (most recent call last)",
      "Cell \u001b[1;32mIn[21], line 1\u001b[0m\n\u001b[1;32m----> 1\u001b[0m \u001b[43mmenu\u001b[49m\u001b[43m[\u001b[49m\u001b[38;5;124;43m'\u001b[39;49m\u001b[38;5;124;43m김밥\u001b[39;49m\u001b[38;5;124;43m'\u001b[39;49m\u001b[43m]\u001b[49m\n",
      "\u001b[1;31mKeyError\u001b[0m: '김밥'"
     ]
    }
   ],
   "source": [
    "menu['김밥']"
   ]
  },
  {
   "cell_type": "code",
   "execution_count": 25,
   "metadata": {},
   "outputs": [],
   "source": [
    "a_list = [3, 'hello', [4, 5, 6], {'a' : 1, 'b' : 2} ]"
   ]
  },
  {
   "cell_type": "code",
   "execution_count": null,
   "metadata": {},
   "outputs": [],
   "source": [
    "addr_list = [{'name' : 'ryan1', 'phone' : '010-1234-5678', 'addr' : '인천'},\n",
    "             {'name' : 'ryan2', 'phone' : '010-1234-5678', 'addr' : '인천'}\n",
    "             {'name' : 'ryan3', 'phone' : '010-1234-5678', 'addr' : '인천'}]\n",
    "\n",
    "{'name' : 'ryan', 'phone' : '010-1234-5678', 'addr' : '인천'}"
   ]
  },
  {
   "cell_type": "code",
   "execution_count": 35,
   "metadata": {},
   "outputs": [
    {
     "name": "stdout",
     "output_type": "stream",
     "text": [
      "메뉴 선택(1: 추가, 2: 삭제, 0: 종료)?\n",
      "****************************************\n",
      "현재 할 일 목록: ['밥먹기'] \n",
      "\n",
      "****************************************\n",
      "메뉴 선택(1: 추가, 2: 삭제, 0: 종료)?\n",
      "****************************************\n",
      "[] \n",
      "\n",
      "메뉴 선택(1: 추가, 2: 삭제, 0: 종료)?\n",
      "****************************************\n",
      "현재 할 일 목록: ['볼일보개ㅣ'] \n",
      "\n",
      "****************************************\n",
      "메뉴 선택(1: 추가, 2: 삭제, 0: 종료)?\n",
      "****************************************\n",
      "현재 할 일 목록: ['볼일보개ㅣ', '산책가기'] \n",
      "\n",
      "****************************************\n",
      "메뉴 선택(1: 추가, 2: 삭제, 0: 종료)?\n",
      "****************************************\n",
      "할일을 전부 하셨군요! 프로그램을 종료합니다.\n",
      "****************************************\n",
      "프로그램이 종료되었습니다.\n",
      "****************************************\n"
     ]
    }
   ],
   "source": [
    "# ToDo리스트 만들기!\n",
    "\n",
    "todolist = []\n",
    "\n",
    "\n",
    "while True:\n",
    "    print('메뉴 선택(1: 추가, 2: 삭제, 0: 종료)?')\n",
    "    listnum = int(input('번호를 입력하세요')) \n",
    "    print('*'*40)\n",
    "    \n",
    "    if listnum == 0:\n",
    "        if not todolist:\n",
    "            print('할 일이 없습니다! 프로그램을 종료합니다.')\n",
    "            print('*'*40)\n",
    "        else:\n",
    "            print('할일을 전부 하셨군요! 프로그램을 종료합니다.')\n",
    "            print('*'*40)\n",
    "        break\n",
    "    \n",
    "    if listnum == 1:\n",
    "        todo = input('할 일을 입력하세요')\n",
    "        todolist.append(todo)\n",
    "        print('현재 할 일 목록:', todolist, '\\n')\n",
    "        print('*'*40)\n",
    "    elif listnum == 2:\n",
    "        if not todolist:\n",
    "            print('제거할 할 일이 없습니다. 할 일을 추가하세요.')\n",
    "            print('*'*40)\n",
    "        else:\n",
    "            done = input('완료한 일을 입력하세요')\n",
    "            todolist.remove(done)\n",
    "            print(todolist,'\\n')\n",
    "            \n",
    "\n",
    "    if listnum >= 3:\n",
    "        print('메뉴 선택 오류입니다. 다시 선택하세요')\n",
    "        print('*'*40)\n",
    "\n",
    "print('프로그램이 종료되었습니다.')\n",
    "print('*'*40)"
   ]
  },
  {
   "cell_type": "code",
   "execution_count": 42,
   "metadata": {},
   "outputs": [
    {
     "name": "stdout",
     "output_type": "stream",
     "text": [
      "메뉴 선택(1:추가,2:검색,3:삭제,0:종료)\n",
      "친구를 추가합니다!\n",
      "현재 친구 목록: {'오동준': '01087020971'}\n",
      "************************************************************\n",
      "메뉴 선택(1:추가,2:검색,3:삭제,0:종료)\n",
      "연락처에 없는 친구입니다!\n",
      "************************************************************\n",
      "메뉴 선택(1:추가,2:검색,3:삭제,0:종료)\n",
      "현재 친구 목록: {}\n",
      "************************************************************\n",
      "메뉴 선택(1:추가,2:검색,3:삭제,0:종료)\n",
      "프로그램을 종료합니다!\n",
      "************************************************************\n",
      "프로그램이 종료되었습니다!\n",
      "************************************************************\n"
     ]
    }
   ],
   "source": [
    "# 전화번호부 만들기!\n",
    "\n",
    "numbook = {}\n",
    "\n",
    "while True:\n",
    "    print('메뉴 선택(1:추가,2:검색,3:삭제,0:종료)')\n",
    "    number = int(input('실행할 메뉴를 숫자로 입력하세요!'))\n",
    "    if number == 0:\n",
    "        print('프로그램을 종료합니다!')\n",
    "        print('*'*60)\n",
    "        break\n",
    "\n",
    "    if number == 1:\n",
    "        print('친구를 추가합니다!')\n",
    "        f_name = input('추가할 친구 이름을 입력하세요!')\n",
    "        f_num = input('추가할 친구의 번호를 입력하세요!')\n",
    "        numbook[f_name] = f_num\n",
    "        print('현재 친구 목록:', numbook)\n",
    "        print('*'*60)\n",
    "    \n",
    "    elif number == 2:\n",
    "        fr_name = input('검색할 친구 이름을 입력하세요!')\n",
    "        if fr_name in numbook:\n",
    "            print(f'{fr_name}의 번호는 {numbook[fr_name]}입니다.')\n",
    "        else:\n",
    "            print(f'{fr_name}는 친구 목록에 없습니다.')\n",
    "        print('*'*60)\n",
    "    elif number == 3:\n",
    "        fre_name = input('삭제할 친구 이름을 입력하세요!')\n",
    "        if fre_name in numbook:\n",
    "            del(numbook[fre_name])\n",
    "            print('성공적으로 삭제되었습니다!')\n",
    "            print('현재 친구 목록:', numbook)\n",
    "        else:\n",
    "            print('연락처에 없는 친구입니다!')\n",
    "        print('*'*60)\n",
    "            \n",
    "    if number >= 4:\n",
    "        print('메뉴 선택 오류입니다. 다시 선택하세요!')\n",
    "        print('*'*60)\n",
    "        \n",
    "print('프로그램이 종료되었습니다!')\n",
    "print('*'*60)\n"
   ]
  },
  {
   "cell_type": "code",
   "execution_count": null,
   "metadata": {},
   "outputs": [],
   "source": [
    "#파이썬 용어 사전\n",
    "\n",
    "Dic_python = {'python':'a high-level programmin language', 'loop':'a sequence of instructions that are continually repeated'}\n",
    "\n",
    "while True:\n",
    "    print('메뉴를 선택하세요(1.검색,2.단어추가,3.단어삭제,0.종료료)')\n",
    "    menu_num = int(input('원하는 메뉴를 숫자로 입력하세요!'))\n",
    "    if menu_num == 0:\n",
    "        print('사전을 종료합니다!')\n",
    "        print('*'*100)\n",
    "        break    \n",
    "\n",
    "    if menu_num == 1:\n",
    "        s_word = input('검색할 단어를 입력하세요')\n",
    "        if s_word in Dic_python:\n",
    "            print('검색한 단어', s_word, 'is', Dic_python[s_word])\n",
    "        else:\n",
    "            print('그런 단어 없어요!')\n",
    "        print('*'*100)\n",
    "    elif menu_num == 2:\n",
    "        d_word = input('삭제할 단어를 입력하세요')\n",
    "\n",
    "        if d_word in Dic_python:\n",
    "            del(Dic_python[d_word])\n",
    "            print('현재 남아있는 단어:', Dic_python)\n",
    "        else:\n",
    "            print('해당 단어는 사전에 없습니다.')\n",
    "        print('*'*100)\n",
    "    elif menu_num == 3:\n",
    "        p_word = input('추가할 단어를 입력하세요')\n",
    "        p_mean = input('해당단어의 뜻을 입력하세요')\n",
    "        Dic_python[p_word] = p_mean\n",
    "        print('현재 단어목록:', Dic_python)\n",
    "        print('*'*100)\n",
    "    else:\n",
    "        print('번호를 다시 확인하세요!')\n",
    "        print('*'*100)\n",
    "        continue\n",
    "print('*'*100)"
   ]
  },
  {
   "cell_type": "markdown",
   "metadata": {},
   "source": [
    "#### 튜플 -> immutable"
   ]
  },
  {
   "cell_type": "code",
   "execution_count": 53,
   "metadata": {},
   "outputs": [],
   "source": [
    "t1 = ()"
   ]
  },
  {
   "cell_type": "code",
   "execution_count": 54,
   "metadata": {},
   "outputs": [
    {
     "name": "stdout",
     "output_type": "stream",
     "text": [
      "<class 'tuple'>\n"
     ]
    }
   ],
   "source": [
    "print(type(t1))"
   ]
  },
  {
   "cell_type": "code",
   "execution_count": 58,
   "metadata": {},
   "outputs": [],
   "source": [
    "t2 = (1,2,3)"
   ]
  },
  {
   "cell_type": "code",
   "execution_count": 61,
   "metadata": {},
   "outputs": [
    {
     "name": "stdout",
     "output_type": "stream",
     "text": [
      "<class 'tuple'>\n"
     ]
    }
   ],
   "source": [
    "print(type(t2))"
   ]
  },
  {
   "cell_type": "code",
   "execution_count": 64,
   "metadata": {},
   "outputs": [],
   "source": [
    "t3 = 1,2,3"
   ]
  },
  {
   "cell_type": "code",
   "execution_count": 65,
   "metadata": {},
   "outputs": [
    {
     "name": "stdout",
     "output_type": "stream",
     "text": [
      "<class 'tuple'>\n"
     ]
    }
   ],
   "source": [
    "print(type(t3))"
   ]
  },
  {
   "cell_type": "code",
   "execution_count": 70,
   "metadata": {},
   "outputs": [],
   "source": [
    "t5 = ('a', 1, ('ab', 'cd'))"
   ]
  },
  {
   "cell_type": "code",
   "execution_count": 74,
   "metadata": {},
   "outputs": [
    {
     "ename": "TypeError",
     "evalue": "'tuple' object does not support item assignment",
     "output_type": "error",
     "traceback": [
      "\u001b[1;31m---------------------------------------------------------------------------\u001b[0m",
      "\u001b[1;31mTypeError\u001b[0m                                 Traceback (most recent call last)",
      "Cell \u001b[1;32mIn[74], line 1\u001b[0m\n\u001b[1;32m----> 1\u001b[0m \u001b[43mt5\u001b[49m\u001b[43m[\u001b[49m\u001b[38;5;241;43m0\u001b[39;49m\u001b[43m]\u001b[49m \u001b[38;5;241m=\u001b[39m \u001b[38;5;124m'\u001b[39m\u001b[38;5;124mc\u001b[39m\u001b[38;5;124m'\u001b[39m\n",
      "\u001b[1;31mTypeError\u001b[0m: 'tuple' object does not support item assignment"
     ]
    }
   ],
   "source": [
    "t5[0] = 'c'"
   ]
  },
  {
   "cell_type": "code",
   "execution_count": 75,
   "metadata": {},
   "outputs": [
    {
     "ename": "TypeError",
     "evalue": "'tuple' object doesn't support item deletion",
     "output_type": "error",
     "traceback": [
      "\u001b[1;31m---------------------------------------------------------------------------\u001b[0m",
      "\u001b[1;31mTypeError\u001b[0m                                 Traceback (most recent call last)",
      "Cell \u001b[1;32mIn[75], line 1\u001b[0m\n\u001b[1;32m----> 1\u001b[0m \u001b[38;5;28;01mdel\u001b[39;00m \u001b[43mt5\u001b[49m\u001b[43m[\u001b[49m\u001b[38;5;241;43m0\u001b[39;49m\u001b[43m]\u001b[49m\n",
      "\u001b[1;31mTypeError\u001b[0m: 'tuple' object doesn't support item deletion"
     ]
    }
   ],
   "source": [
    "del t5[0]"
   ]
  },
  {
   "cell_type": "code",
   "execution_count": 76,
   "metadata": {},
   "outputs": [
    {
     "data": {
      "text/plain": [
       "[0, 1, 2, 3, 4]"
      ]
     },
     "execution_count": 76,
     "metadata": {},
     "output_type": "execute_result"
    }
   ],
   "source": [
    "list(range(5))"
   ]
  },
  {
   "cell_type": "code",
   "execution_count": 77,
   "metadata": {},
   "outputs": [
    {
     "data": {
      "text/plain": [
       "(0, 1, 2, 3, 4)"
      ]
     },
     "execution_count": 77,
     "metadata": {},
     "output_type": "execute_result"
    }
   ],
   "source": [
    "tuple(range(5))"
   ]
  },
  {
   "cell_type": "code",
   "execution_count": 5,
   "metadata": {},
   "outputs": [
    {
     "name": "stdout",
     "output_type": "stream",
     "text": [
      "좋아하는 과일은?\n",
      "정답입니다!\n",
      "****************************************\n"
     ]
    }
   ],
   "source": [
    "fruit = ['사과', '포도', '홍시']\n",
    "\n",
    "\n",
    "\n",
    "print('좋아하는 과일은?')\n",
    "while True:\n",
    "    fru = input('단어를 입력해 주세요')    \n",
    "    if fru in fruit:\n",
    "        print('정답입니다!')\n",
    "        break\n",
    "    else:\n",
    "        print('오답입니다...')\n",
    "print('*'*40)\n",
    "\n"
   ]
  },
  {
   "cell_type": "markdown",
   "metadata": {},
   "source": [
    "##### 내장 함수"
   ]
  },
  {
   "cell_type": "markdown",
   "metadata": {},
   "source": [
    "### 사용자 정의 함수"
   ]
  },
  {
   "cell_type": "code",
   "execution_count": null,
   "metadata": {},
   "outputs": [],
   "source": [
    "def 함수이름(매개변수):\n",
    "    수행할 명령어\n",
    "    return 리턴값"
   ]
  },
  {
   "cell_type": "code",
   "execution_count": 6,
   "metadata": {},
   "outputs": [],
   "source": [
    "def Sayhi():\n",
    "    print('Hi')"
   ]
  },
  {
   "cell_type": "code",
   "execution_count": 7,
   "metadata": {},
   "outputs": [
    {
     "name": "stdout",
     "output_type": "stream",
     "text": [
      "Hi\n",
      "Hi\n"
     ]
    }
   ],
   "source": [
    "Sayhi()\n",
    "Sayhi()"
   ]
  },
  {
   "cell_type": "code",
   "execution_count": 8,
   "metadata": {},
   "outputs": [
    {
     "name": "stdout",
     "output_type": "stream",
     "text": [
      "<function Sayhi at 0x00000233C3619DA0>\n"
     ]
    }
   ],
   "source": [
    "print(Sayhi)"
   ]
  },
  {
   "cell_type": "code",
   "execution_count": 10,
   "metadata": {},
   "outputs": [],
   "source": [
    "def NameHi(name):\n",
    "    print(f'{name}야 안녕~~~')"
   ]
  },
  {
   "cell_type": "code",
   "execution_count": 11,
   "metadata": {},
   "outputs": [
    {
     "name": "stdout",
     "output_type": "stream",
     "text": [
      "Cristiano야 안녕~~~\n",
      "Ronaldo야 안녕~~~\n",
      "Lionel야 안녕~~~\n",
      "Messi야 안녕~~~\n"
     ]
    }
   ],
   "source": [
    "NameHi('Cristiano')\n",
    "NameHi('Ronaldo')\n",
    "NameHi('Lionel')\n",
    "NameHi('Messi')"
   ]
  },
  {
   "cell_type": "code",
   "execution_count": 12,
   "metadata": {},
   "outputs": [],
   "source": [
    "def HiReturn():\n",
    "    return 'Hi'"
   ]
  },
  {
   "cell_type": "code",
   "execution_count": 13,
   "metadata": {},
   "outputs": [
    {
     "name": "stdout",
     "output_type": "stream",
     "text": [
      "Hi\n"
     ]
    }
   ],
   "source": [
    "b = HiReturn()\n",
    "print(b)"
   ]
  },
  {
   "cell_type": "code",
   "execution_count": 14,
   "metadata": {},
   "outputs": [],
   "source": [
    "def add(a, b):\n",
    "    return a+b"
   ]
  },
  {
   "cell_type": "code",
   "execution_count": 15,
   "metadata": {},
   "outputs": [
    {
     "name": "stdout",
     "output_type": "stream",
     "text": [
      "7\n"
     ]
    }
   ],
   "source": [
    "add_num = add(3,4)\n",
    "print(add_num)"
   ]
  },
  {
   "cell_type": "code",
   "execution_count": 16,
   "metadata": {},
   "outputs": [
    {
     "name": "stdout",
     "output_type": "stream",
     "text": [
      "12\n"
     ]
    }
   ],
   "source": [
    "def num_max(num1,num2,num3) :\n",
    "    largest = num1\n",
    "    if num2 > num1:\n",
    "        largest = num2\n",
    "    if num3 > num2:\n",
    "        largest = num3\n",
    "\n",
    "    return largest\n",
    "\n",
    "L_num = num_max(10,12,7)\n",
    "print(L_num)"
   ]
  },
  {
   "cell_type": "code",
   "execution_count": 19,
   "metadata": {},
   "outputs": [
    {
     "name": "stdout",
     "output_type": "stream",
     "text": [
      "24\n"
     ]
    }
   ],
   "source": [
    "# 숫자들의 배열을 입력하면 가장 작은 값을 구하는 함수\n",
    "testArray = [52,273,32,103,275,24,57]\n",
    "def num_min(testArray):\n",
    "    smallest_num = testArray[0]\n",
    "    for num in testArray:\n",
    "        if num < smallest_num:\n",
    "            smallest_num = num\n",
    "    return smallest_num\n",
    "\n",
    "print(num_min(testArray))\n",
    "\n"
   ]
  },
  {
   "cell_type": "code",
   "execution_count": 25,
   "metadata": {},
   "outputs": [
    {
     "name": "stdout",
     "output_type": "stream",
     "text": [
      "[2, 10, 12]\n"
     ]
    }
   ],
   "source": [
    "my_list = [1,3,2,10,12,11,15]\n",
    "\n",
    "def print_even(my_list):\n",
    "    \n",
    "    even = []\n",
    "    even_num = my_list\n",
    "    for num in my_list:\n",
    "        if num % 2 == 0:\n",
    "            even_num = num\n",
    "            even.append(num)\n",
    "    return even\n",
    "\n",
    "print(print_even(my_list))"
   ]
  },
  {
   "cell_type": "code",
   "execution_count": 25,
   "metadata": {},
   "outputs": [
    {
     "name": "stdout",
     "output_type": "stream",
     "text": [
      "2022은 윤년이 아닙니다: False\n",
      "2010은 윤년이 아닙니다: False\n",
      "2000은 윤년입니다: True\n",
      "1900은 윤년이 아닙니다: False\n"
     ]
    }
   ],
   "source": [
    "# 윤년을 확인하는 함수 만들기\n",
    "\n",
    "def isLeapYear(yaer):\n",
    "    if (year % 4 == 0 and year % 100 != 0) or (year % 400 == 0):\n",
    "        return True\n",
    "    else:\n",
    "        return False\n",
    "\n",
    "years = [2022, 2010, 2000, 1900]    \n",
    "for year in years:\n",
    "    if isLeapYear(year):\n",
    "        print(f\"{year}은 윤년입니다: {isLeapYear(year)}\")\n",
    "    else:\n",
    "        print(f\"{year}은 윤년이 아닙니다: {isLeapYear(year)}\")"
   ]
  },
  {
   "cell_type": "code",
   "execution_count": 26,
   "metadata": {},
   "outputs": [],
   "source": [
    "def add_many(*args):\n",
    "    result = 0\n",
    "    for i in args:\n",
    "        result += i\n",
    "    return result"
   ]
  },
  {
   "cell_type": "code",
   "execution_count": 27,
   "metadata": {},
   "outputs": [
    {
     "name": "stdout",
     "output_type": "stream",
     "text": [
      "5\n",
      "55\n"
     ]
    }
   ],
   "source": [
    "print(add_many(2,3))\n",
    "print(add_many(1,2,3,4,5,6,7,8,9,10))"
   ]
  },
  {
   "cell_type": "code",
   "execution_count": 28,
   "metadata": {},
   "outputs": [
    {
     "name": "stdout",
     "output_type": "stream",
     "text": [
      "a b c d "
     ]
    }
   ],
   "source": [
    "print('a','b','c','d', end=\" \")"
   ]
  },
  {
   "cell_type": "code",
   "execution_count": 29,
   "metadata": {},
   "outputs": [],
   "source": [
    "def add_mul(choice, *args):\n",
    "    if choice == 'add' :\n",
    "        result = 0\n",
    "        for i in args:\n",
    "            result += i\n",
    "    elif choice== 'mul':\n",
    "        result = 1\n",
    "        for i in args:\n",
    "            result += i\n",
    "    return result"
   ]
  },
  {
   "cell_type": "code",
   "execution_count": 30,
   "metadata": {},
   "outputs": [
    {
     "name": "stdout",
     "output_type": "stream",
     "text": [
      "15\n",
      "7\n"
     ]
    }
   ],
   "source": [
    "print(add_mul('add', 1,2,3,4,5))\n",
    "print(add_mul('mul',1,2,3))"
   ]
  },
  {
   "cell_type": "code",
   "execution_count": 31,
   "metadata": {},
   "outputs": [],
   "source": [
    "def add_mul(choice, *args):\n",
    "    if choice == 'add' :\n",
    "        result = 0\n",
    "        for i in args:\n",
    "            result += i\n",
    "    elif choice== 'mul':\n",
    "        result = 1\n",
    "        for i in args:\n",
    "            result += i\n",
    "    return result"
   ]
  },
  {
   "cell_type": "code",
   "execution_count": 32,
   "metadata": {},
   "outputs": [],
   "source": [
    "def add_and_mul (a,b):\n",
    "    return a+b, a*b"
   ]
  },
  {
   "cell_type": "code",
   "execution_count": 33,
   "metadata": {},
   "outputs": [
    {
     "name": "stdout",
     "output_type": "stream",
     "text": [
      "7\n",
      "12\n"
     ]
    }
   ],
   "source": [
    "result1, result2 = add_and_mul(3,4)\n",
    "print(result1)\n",
    "print(result2)"
   ]
  },
  {
   "cell_type": "code",
   "execution_count": 34,
   "metadata": {},
   "outputs": [],
   "source": [
    "def func(a, b):\n",
    "    return a+b, a-b, a*b, a//b"
   ]
  },
  {
   "cell_type": "code",
   "execution_count": 35,
   "metadata": {},
   "outputs": [
    {
     "name": "stdout",
     "output_type": "stream",
     "text": [
      "(13, 7, 30, 3)\n"
     ]
    }
   ],
   "source": [
    "num1 = func(10,3)\n",
    "print(num1)"
   ]
  },
  {
   "cell_type": "code",
   "execution_count": 36,
   "metadata": {},
   "outputs": [
    {
     "name": "stdout",
     "output_type": "stream",
     "text": [
      "13 7 30 3\n"
     ]
    }
   ],
   "source": [
    "num1, num2, num3, num4 = func(10,3)\n",
    "print(num1, num2, num3, num4)"
   ]
  },
  {
   "cell_type": "markdown",
   "metadata": {},
   "source": [
    "##### 2024-12-24"
   ]
  },
  {
   "cell_type": "code",
   "execution_count": 37,
   "metadata": {},
   "outputs": [
    {
     "name": "stdout",
     "output_type": "stream",
     "text": [
      "10 10 30 Hello 35\n"
     ]
    }
   ],
   "source": [
    "a = b = 10 \n",
    "c, d = 30, 'Hello'\n",
    "e= 35\n",
    "print(a, b, c, d, e)"
   ]
  },
  {
   "cell_type": "code",
   "execution_count": 38,
   "metadata": {},
   "outputs": [
    {
     "name": "stdout",
     "output_type": "stream",
     "text": [
      "['닥터 스트레인지', '스플릿', '럭키', '베트맨']\n"
     ]
    }
   ],
   "source": [
    "# movue_rank 리스트에 배트맨 추가\n",
    "\n",
    "movie_rank = ['닥터 스트레인지','스플릿','럭키']\n",
    "movie_rank.append('베트맨')\n",
    "\n",
    "print(movie_rank)"
   ]
  },
  {
   "cell_type": "code",
   "execution_count": 39,
   "metadata": {},
   "outputs": [
    {
     "name": "stdout",
     "output_type": "stream",
     "text": [
      "['닥터 스트레인지', '슈퍼맨', '스플릿', '럭키', '베트맨']\n"
     ]
    }
   ],
   "source": [
    "movie_rank.insert(1, '슈퍼맨')\n",
    "print(movie_rank)"
   ]
  },
  {
   "cell_type": "code",
   "execution_count": 40,
   "metadata": {},
   "outputs": [
    {
     "name": "stdout",
     "output_type": "stream",
     "text": [
      "['닥터 스트레인지', '슈퍼맨']\n"
     ]
    }
   ],
   "source": [
    "movie_rank.pop(-1)\n",
    "movie_rank.pop(2)\n",
    "movie_rank.pop()\n",
    "\n",
    "print(movie_rank)"
   ]
  },
  {
   "cell_type": "code",
   "execution_count": 41,
   "metadata": {},
   "outputs": [
    {
     "name": "stdout",
     "output_type": "stream",
     "text": [
      "apple banana cake\n"
     ]
    }
   ],
   "source": [
    "temp = ('apple', 'banana', 'cake')\n",
    "a, b, c = temp\n",
    "print(a, b, c)"
   ]
  },
  {
   "cell_type": "code",
   "execution_count": 42,
   "metadata": {},
   "outputs": [
    {
     "name": "stdout",
     "output_type": "stream",
     "text": [
      "010 1234 5678\n"
     ]
    }
   ],
   "source": [
    "phone_number = \"010-1234-5678\"\n",
    "phone_number1 = phone_number.replace(\"-\", \" \")\n",
    "print(phone_number1)"
   ]
  },
  {
   "cell_type": "code",
   "execution_count": 43,
   "metadata": {},
   "outputs": [
    {
     "ename": "ValueError",
     "evalue": "not enough values to unpack (expected 3, got 0)",
     "output_type": "error",
     "traceback": [
      "\u001b[1;31m---------------------------------------------------------------------------\u001b[0m",
      "\u001b[1;31mValueError\u001b[0m                                Traceback (most recent call last)",
      "Cell \u001b[1;32mIn[43], line 1\u001b[0m\n\u001b[1;32m----> 1\u001b[0m a, b, c \u001b[38;5;241m=\u001b[39m \u001b[38;5;28minput\u001b[39m()\u001b[38;5;241m.\u001b[39msplit()\n\u001b[0;32m      2\u001b[0m s \u001b[38;5;241m=\u001b[39m \u001b[38;5;28mint\u001b[39m(a) \u001b[38;5;241m+\u001b[39m \u001b[38;5;28mint\u001b[39m(b) \u001b[38;5;241m+\u001b[39m \u001b[38;5;28mint\u001b[39m(c)\n\u001b[0;32m      4\u001b[0m \u001b[38;5;28mprint\u001b[39m(s)\n",
      "\u001b[1;31mValueError\u001b[0m: not enough values to unpack (expected 3, got 0)"
     ]
    }
   ],
   "source": [
    "a, b, c = input().split()\n",
    "s = int(a) + int(b) + int(c)\n",
    "\n",
    "print(s)"
   ]
  },
  {
   "cell_type": "code",
   "execution_count": 50,
   "metadata": {},
   "outputs": [
    {
     "name": "stdout",
     "output_type": "stream",
     "text": [
      "<class 'str'> <class 'str'> <class 'str'>\n",
      "name = 오동준 height = 172.2 age = 25\n"
     ]
    }
   ],
   "source": [
    "a, b, c = input().split()\n",
    "d = str(a), float(b), int(c)\n",
    "\n",
    "print( type(a), type(b),  type(c) )\n",
    "print('name =', a, 'height =', b, 'age =', c)"
   ]
  },
  {
   "cell_type": "code",
   "execution_count": 53,
   "metadata": {},
   "outputs": [
    {
     "name": "stdout",
     "output_type": "stream",
     "text": [
      "합계 = 50620\n"
     ]
    }
   ],
   "source": [
    "d = {'kim' : 34000, 'lee' : 12000, 'park' : 1200, 'lew' : 0, 'song' : 3420}\n",
    "\n",
    "total_sum = sum(d.values())\n",
    "\n",
    "print('합계 =', total_sum)"
   ]
  },
  {
   "cell_type": "code",
   "execution_count": 59,
   "metadata": {},
   "outputs": [
    {
     "name": "stdout",
     "output_type": "stream",
     "text": [
      "['a', 'b', 'c', 'd']\n"
     ]
    }
   ],
   "source": [
    "def make_list (string) :\n",
    "    char_list = list(string)\n",
    "    return char_list\n",
    "\n",
    "result = make_list('abcd')\n",
    "print(result)"
   ]
  },
  {
   "cell_type": "code",
   "execution_count": 74,
   "metadata": {},
   "outputs": [
    {
     "name": "stdout",
     "output_type": "stream",
     "text": [
      "1\n"
     ]
    }
   ],
   "source": [
    "aa = 1\n",
    "def vartest(aa):\n",
    "    aa = aa + 1\n",
    "    return aa\n",
    "\n",
    "vartest(aa)\n",
    "print(aa)"
   ]
  },
  {
   "cell_type": "code",
   "execution_count": 77,
   "metadata": {},
   "outputs": [
    {
     "name": "stdout",
     "output_type": "stream",
     "text": [
      "[2, 3, 4, 5, 6]\n"
     ]
    }
   ],
   "source": [
    "# map(funtion.iterable)\n",
    "\n",
    "myList = [1,2,3,4,5]\n",
    "\n",
    "#모든 요소를 1씩 증가 시키기\n",
    "\n",
    "\n",
    "def add_one(n):\n",
    "    return n+1\\\n",
    "    \n",
    "# result = []\n",
    "# for i in myList:\n",
    "#     a = add_one(i)\n",
    "#     result.append(a)\n",
    "\n",
    "result = list(map(add_one, myList))\n",
    "\n",
    "print(result)"
   ]
  },
  {
   "cell_type": "code",
   "execution_count": 78,
   "metadata": {},
   "outputs": [
    {
     "name": "stdout",
     "output_type": "stream",
     "text": [
      "[3, -6, 100, 26]\n"
     ]
    }
   ],
   "source": [
    "f = (3.14, -5.625, 100.4, 25.8)\n",
    "result = list(map(round, f))\n",
    "print(result)"
   ]
  },
  {
   "cell_type": "code",
   "execution_count": 92,
   "metadata": {},
   "outputs": [
    {
     "name": "stdout",
     "output_type": "stream",
     "text": [
      "[(52, 19, 0), (255, 63, 68), (39, 227, 255), (132, 197, 187)]\n"
     ]
    }
   ],
   "source": [
    "r = (52, 255, 39, 132)\n",
    "g = (19, 63, 227, 197)\n",
    "b = (0, 68, 255, 187)\n",
    "\n",
    "img = list(zip(r, g, b))\n",
    "\n",
    "print(img)"
   ]
  },
  {
   "cell_type": "code",
   "execution_count": 111,
   "metadata": {},
   "outputs": [
    {
     "name": "stdout",
     "output_type": "stream",
     "text": [
      "{1: 'apple', 2: 'orange', 3: 'banana', 4: 'mango'}\n"
     ]
    }
   ],
   "source": [
    "fru = ('apple', 'orange', 'banana', 'mango')\n",
    "\n",
    "tag = dict(enumerate(fru,1))\n",
    "\n",
    "print(tag)"
   ]
  },
  {
   "cell_type": "code",
   "execution_count": 114,
   "metadata": {},
   "outputs": [
    {
     "name": "stdout",
     "output_type": "stream",
     "text": [
      "[8, 7, 9]\n"
     ]
    }
   ],
   "source": [
    "def f(x):\n",
    "    return 6 < x < 10\n",
    "\n",
    "x = [8,3,2,10,15,7,1,9,0,11]\n",
    "a = list(filter(f, x))\n",
    "print(a)"
   ]
  },
  {
   "cell_type": "code",
   "execution_count": 115,
   "metadata": {},
   "outputs": [
    {
     "name": "stdout",
     "output_type": "stream",
     "text": [
      "[2, 3, 4, 5, 6]\n"
     ]
    }
   ],
   "source": [
    "myList = [1,2,3,4,5]\n",
    "\n",
    "#모든 요소를 1씩 증가 시키기\n",
    "\n",
    "\n",
    "#def add_one(n):\n",
    "#    return n+1\\\n",
    "    \n",
    "# result = []\n",
    "# for i in myList:\n",
    "#     a = add_one(i)\n",
    "#     result.append(a)\n",
    "\n",
    "result = list(map(lambda x: x+1, myList))\n",
    "\n",
    "print(result)"
   ]
  },
  {
   "cell_type": "code",
   "execution_count": 117,
   "metadata": {},
   "outputs": [
    {
     "name": "stdout",
     "output_type": "stream",
     "text": [
      "5\n"
     ]
    }
   ],
   "source": [
    "f = lambda x, y : x + y\n",
    "print(f(2, 3))"
   ]
  },
  {
   "cell_type": "code",
   "execution_count": 123,
   "metadata": {},
   "outputs": [
    {
     "name": "stdout",
     "output_type": "stream",
     "text": [
      "[1, 4, 9, 16]\n"
     ]
    }
   ],
   "source": [
    "numbers = [1,2,3,4]\n",
    "swuared = list(map(lambda x : x * x, numbers))\n",
    "\n",
    "print(swuared)"
   ]
  },
  {
   "cell_type": "code",
   "execution_count": 127,
   "metadata": {},
   "outputs": [
    {
     "name": "stdout",
     "output_type": "stream",
     "text": [
      "[2, 4]\n"
     ]
    }
   ],
   "source": [
    "numbers = [1,2,3,4,5]\n",
    "even_numbers = list(filter(lambda x : x % 2 == 0, numbers))\n",
    "\n",
    "print(even_numbers)"
   ]
  },
  {
   "cell_type": "code",
   "execution_count": 132,
   "metadata": {},
   "outputs": [
    {
     "name": "stdout",
     "output_type": "stream",
     "text": [
      "[(5, 1), (1, 2), (2, 3)]\n"
     ]
    }
   ],
   "source": [
    "points = [(1, 2), (2, 3), (5, 1)]\n",
    "sorted_points = sorted(points, key=lambda x : x[1])\n",
    "\n",
    "print(sorted_points)"
   ]
  },
  {
   "cell_type": "code",
   "execution_count": 139,
   "metadata": {},
   "outputs": [
    {
     "name": "stdout",
     "output_type": "stream",
     "text": [
      "['banana', 'applemint', 'cherrycoke']\n"
     ]
    }
   ],
   "source": [
    "a = ['applemint','banana','cherrycoke']\n",
    "new_a = sorted(a, key = len)\n",
    "\n",
    "print(new_a)"
   ]
  },
  {
   "cell_type": "code",
   "execution_count": 140,
   "metadata": {},
   "outputs": [
    {
     "name": "stdout",
     "output_type": "stream",
     "text": [
      "{3: 'a', 1: 'b', 2: 'c'}\n",
      "[(1, 'b'), (2, 'c'), (3, 'a')]\n"
     ]
    }
   ],
   "source": [
    "my_dict = {3: 'a', 1: 'b', 2: 'c'}\n",
    "\n",
    "new_dict = sorted(my_dict.items())\n",
    "\n",
    "print(my_dict)\n",
    "print(new_dict)"
   ]
  },
  {
   "cell_type": "code",
   "execution_count": 141,
   "metadata": {},
   "outputs": [
    {
     "name": "stdout",
     "output_type": "stream",
     "text": [
      "{3: 'a', 1: 'b', 2: 'c'}\n",
      "[(3, 'a'), (1, 'b'), (2, 'c')]\n"
     ]
    }
   ],
   "source": [
    "my_dict = {3: 'a', 1: 'b', 2: 'c'}\n",
    "\n",
    "new_dict = sorted(my_dict.items(), key = lambda item : item[1])\n",
    "\n",
    "print(my_dict)\n",
    "print(new_dict)"
   ]
  },
  {
   "cell_type": "markdown",
   "metadata": {},
   "source": [
    "### 모듈"
   ]
  },
  {
   "cell_type": "code",
   "execution_count": 142,
   "metadata": {},
   "outputs": [],
   "source": [
    "import math"
   ]
  },
  {
   "cell_type": "code",
   "execution_count": 143,
   "metadata": {},
   "outputs": [
    {
     "data": {
      "text/plain": [
       "8.0"
      ]
     },
     "execution_count": 143,
     "metadata": {},
     "output_type": "execute_result"
    }
   ],
   "source": [
    "math.pow(2,3)"
   ]
  },
  {
   "cell_type": "code",
   "execution_count": 147,
   "metadata": {},
   "outputs": [
    {
     "data": {
      "text/plain": [
       "3.0"
      ]
     },
     "execution_count": 147,
     "metadata": {},
     "output_type": "execute_result"
    }
   ],
   "source": [
    "import math as m\n",
    "\n",
    "m.pow(2,4)\n",
    "m.sqrt(9)"
   ]
  },
  {
   "cell_type": "code",
   "execution_count": 148,
   "metadata": {},
   "outputs": [
    {
     "data": {
      "text/plain": [
       "3.0"
      ]
     },
     "execution_count": 148,
     "metadata": {},
     "output_type": "execute_result"
    }
   ],
   "source": [
    "from math import pow, sqrt\n",
    "\n",
    "pow(2,4)\n",
    "sqrt(9)"
   ]
  },
  {
   "cell_type": "code",
   "execution_count": 202,
   "metadata": {},
   "outputs": [
    {
     "name": "stdout",
     "output_type": "stream",
     "text": [
      "1, 9, 17, 25, 33, 41\n"
     ]
    }
   ],
   "source": [
    "numbers = list(range(1,46))\n",
    "selected_numbers = []\n",
    "\n",
    "for i in range (6):\n",
    "    index = (i*7) % len(numbers)\n",
    "    selected_number = numbers.pop(index)\n",
    "    selected_numbers.append(selected_number)\n",
    "\n",
    "print(\", \".join(map(str, selected_numbers)))"
   ]
  },
  {
   "cell_type": "code",
   "execution_count": 203,
   "metadata": {},
   "outputs": [
    {
     "name": "stdout",
     "output_type": "stream",
     "text": [
      "[16, 22, 19, 7, 26, 3]\n"
     ]
    }
   ],
   "source": [
    "import random\n",
    "\n",
    "random_numbers = random.sample(range(0,45), 6)\n",
    "\n",
    "print(random_numbers)"
   ]
  },
  {
   "cell_type": "code",
   "execution_count": 231,
   "metadata": {},
   "outputs": [],
   "source": [
    "class Dog:\n",
    "    species = \"Doberman\"\n",
    "    \n",
    "    def __init__(self, name, age):\n",
    "        self.name = name\n",
    "        self.age = age\n",
    "    \n",
    "\n",
    "    def bark(self):\n",
    "        return f'{self.name} is barking'"
   ]
  },
  {
   "cell_type": "code",
   "execution_count": 232,
   "metadata": {},
   "outputs": [],
   "source": [
    "dog1 = Dog('Happy', 3)"
   ]
  },
  {
   "cell_type": "code",
   "execution_count": 233,
   "metadata": {},
   "outputs": [
    {
     "data": {
      "text/plain": [
       "'Happy is barking'"
      ]
     },
     "execution_count": 233,
     "metadata": {},
     "output_type": "execute_result"
    }
   ],
   "source": [
    "dog1.bark()"
   ]
  },
  {
   "cell_type": "code",
   "execution_count": 234,
   "metadata": {},
   "outputs": [
    {
     "data": {
      "text/plain": [
       "__main__.Dog"
      ]
     },
     "execution_count": 234,
     "metadata": {},
     "output_type": "execute_result"
    }
   ],
   "source": [
    "type(dog1)"
   ]
  },
  {
   "cell_type": "code",
   "execution_count": 12,
   "metadata": {},
   "outputs": [],
   "source": [
    "class Fourcal:\n",
    "    def __init__(self, num1, num2):\n",
    "        self.num1 = num1\n",
    "        self.num2 = num2\n",
    "    def add(self):\n",
    "        result = self.num1 + self.num2\n",
    "        return result\n",
    "    def sub(self):\n",
    "        result = self.num1 - self.num2\n",
    "        return result\n",
    "    def mul(self):\n",
    "        result = self.num1 * self.num2\n",
    "        return result\n",
    "    def div(self):\n",
    "        result = self.num1/ self.num2\n",
    "        return result"
   ]
  },
  {
   "cell_type": "code",
   "execution_count": 13,
   "metadata": {},
   "outputs": [],
   "source": [
    "a = Fourcal(7, 3)\n",
    "b = Fourcal(3, 2)"
   ]
  },
  {
   "cell_type": "code",
   "execution_count": 14,
   "metadata": {},
   "outputs": [],
   "source": [
    "d = Fourcal(5,0)"
   ]
  },
  {
   "cell_type": "code",
   "execution_count": null,
   "metadata": {},
   "outputs": [
    {
     "ename": "ZeroDivisionError",
     "evalue": "division by zero",
     "output_type": "error",
     "traceback": [
      "\u001b[1;31m---------------------------------------------------------------------------\u001b[0m",
      "\u001b[1;31mZeroDivisionError\u001b[0m                         Traceback (most recent call last)",
      "Cell \u001b[1;32mIn[15], line 1\u001b[0m\n\u001b[1;32m----> 1\u001b[0m \u001b[43md\u001b[49m\u001b[38;5;241;43m.\u001b[39;49m\u001b[43mdiv\u001b[49m\u001b[43m(\u001b[49m\u001b[43m)\u001b[49m\n",
      "Cell \u001b[1;32mIn[12], line 15\u001b[0m, in \u001b[0;36mFourcal.div\u001b[1;34m(self)\u001b[0m\n\u001b[0;32m     14\u001b[0m \u001b[38;5;28;01mdef\u001b[39;00m \u001b[38;5;21mdiv\u001b[39m(\u001b[38;5;28mself\u001b[39m):\n\u001b[1;32m---> 15\u001b[0m     result \u001b[38;5;241m=\u001b[39m \u001b[38;5;28;43mself\u001b[39;49m\u001b[38;5;241;43m.\u001b[39;49m\u001b[43mnum1\u001b[49m\u001b[38;5;241;43m/\u001b[39;49m\u001b[43m \u001b[49m\u001b[38;5;28;43mself\u001b[39;49m\u001b[38;5;241;43m.\u001b[39;49m\u001b[43mnum2\u001b[49m\n\u001b[0;32m     16\u001b[0m     \u001b[38;5;28;01mreturn\u001b[39;00m result\n",
      "\u001b[1;31mZeroDivisionError\u001b[0m: division by zero"
     ]
    }
   ],
   "source": [
    "d.div()"
   ]
  },
  {
   "cell_type": "code",
   "execution_count": null,
   "metadata": {},
   "outputs": [
    {
     "data": {
      "text/plain": [
       "10"
      ]
     },
     "execution_count": 248,
     "metadata": {},
     "output_type": "execute_result"
    }
   ],
   "source": [
    "a.add()"
   ]
  },
  {
   "cell_type": "code",
   "execution_count": 249,
   "metadata": {},
   "outputs": [
    {
     "data": {
      "text/plain": [
       "4"
      ]
     },
     "execution_count": 249,
     "metadata": {},
     "output_type": "execute_result"
    }
   ],
   "source": [
    "a.sub()"
   ]
  },
  {
   "cell_type": "code",
   "execution_count": 250,
   "metadata": {},
   "outputs": [
    {
     "data": {
      "text/plain": [
       "7"
      ]
     },
     "execution_count": 250,
     "metadata": {},
     "output_type": "execute_result"
    }
   ],
   "source": [
    "a.num1"
   ]
  },
  {
   "cell_type": "code",
   "execution_count": 251,
   "metadata": {},
   "outputs": [
    {
     "data": {
      "text/plain": [
       "3"
      ]
     },
     "execution_count": 251,
     "metadata": {},
     "output_type": "execute_result"
    }
   ],
   "source": [
    "a.num2"
   ]
  },
  {
   "cell_type": "code",
   "execution_count": 45,
   "metadata": {},
   "outputs": [],
   "source": [
    "class AdvancedFourCal(Fourcal):\n",
    "    def pow(self):\n",
    "        return self.num1 ** self.num2"
   ]
  },
  {
   "cell_type": "code",
   "execution_count": 46,
   "metadata": {},
   "outputs": [],
   "source": [
    "c = AdvancedFourCal(4,2)"
   ]
  },
  {
   "cell_type": "code",
   "execution_count": 47,
   "metadata": {},
   "outputs": [
    {
     "data": {
      "text/plain": [
       "6"
      ]
     },
     "execution_count": 47,
     "metadata": {},
     "output_type": "execute_result"
    }
   ],
   "source": [
    "c.add()"
   ]
  },
  {
   "cell_type": "code",
   "execution_count": 48,
   "metadata": {},
   "outputs": [
    {
     "data": {
      "text/plain": [
       "2"
      ]
     },
     "execution_count": 48,
     "metadata": {},
     "output_type": "execute_result"
    }
   ],
   "source": [
    "c.sub()"
   ]
  },
  {
   "cell_type": "code",
   "execution_count": 16,
   "metadata": {},
   "outputs": [
    {
     "name": "stdout",
     "output_type": "stream",
     "text": [
      "[2, 4, 6]\n"
     ]
    }
   ],
   "source": [
    "numbers = [1,2,3,4,5,6,7]\n",
    "even_numbers = [x for x in numbers if x % 2 == 0]\n",
    "print(even_numbers)"
   ]
  },
  {
   "cell_type": "code",
   "execution_count": 51,
   "metadata": {},
   "outputs": [
    {
     "name": "stdout",
     "output_type": "stream",
     "text": [
      "[4, 16, 36]\n"
     ]
    }
   ],
   "source": [
    "numbers = numbers = [1,2,3,4,5,6,7]\n",
    "even_d_numbers = [x**2 for x in numbers if x % 2 == 0]\n",
    "print(even_d_numbers)"
   ]
  }
 ],
 "metadata": {
  "kernelspec": {
   "display_name": "Python 3",
   "language": "python",
   "name": "python3"
  },
  "language_info": {
   "codemirror_mode": {
    "name": "ipython",
    "version": 3
   },
   "file_extension": ".py",
   "mimetype": "text/x-python",
   "name": "python",
   "nbconvert_exporter": "python",
   "pygments_lexer": "ipython3",
   "version": "3.13.1"
  }
 },
 "nbformat": 4,
 "nbformat_minor": 2
}
